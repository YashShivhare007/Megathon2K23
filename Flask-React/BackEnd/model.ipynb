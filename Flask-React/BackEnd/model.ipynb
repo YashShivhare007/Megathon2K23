{
  "cells": [
    {
      "cell_type": "markdown",
      "metadata": {
        "id": "3N0lERktdYAW"
      },
      "source": [
        "**<h2> MBTI Personality Prediction using Machine Learning : CSL2050 </h2>**\n",
        "<hr>\n",
        "\n",
        "By :<br>\n",
        "Vedant A. Sontake<br> \n",
        "Electrical Engineering, B.Tech.<br> \n",
        "Indian Institute of Technology Jodhpur\n",
        "\n"
      ]
    },
    {
      "cell_type": "code",
      "execution_count": 6,
      "metadata": {
        "id": "tYKmm7KRfjBk"
      },
      "outputs": [],
      "source": [
        "import pandas as pd\n",
        "import numpy as np\n",
        "import nltk\n",
        "import re\n",
        "import seaborn as sns\n",
        "import matplotlib.pyplot as plt\n",
        "from sklearn.metrics import roc_curve\n",
        "from sklearn.metrics import roc_auc_score\n",
        "from sklearn.feature_extraction.text import TfidfVectorizer\n",
        "from sklearn.feature_extraction.text import CountVectorizer,TfidfTransformer\n",
        "from sklearn.metrics import accuracy_score\n",
        "from sklearn.model_selection import GridSearchCV"
      ]
    },
    {
      "cell_type": "code",
      "execution_count": 7,
      "metadata": {
        "id": "5ehk5iqaf0d9"
      },
      "outputs": [],
      "source": [
        "mbti_df=pd.read_csv('./train_data.csv')"
      ]
    },
    {
      "cell_type": "code",
      "execution_count": 8,
      "metadata": {
        "colab": {
          "base_uri": "https://localhost:8080/",
          "height": 206
        },
        "id": "bxzXIpJfgUS5",
        "outputId": "72ce5612-2e11-4ee1-99a8-711036b6ab32"
      },
      "outputs": [
        {
          "data": {
            "text/html": [
              "<div>\n",
              "<style scoped>\n",
              "    .dataframe tbody tr th:only-of-type {\n",
              "        vertical-align: middle;\n",
              "    }\n",
              "\n",
              "    .dataframe tbody tr th {\n",
              "        vertical-align: top;\n",
              "    }\n",
              "\n",
              "    .dataframe thead th {\n",
              "        text-align: right;\n",
              "    }\n",
              "</style>\n",
              "<table border=\"1\" class=\"dataframe\">\n",
              "  <thead>\n",
              "    <tr style=\"text-align: right;\">\n",
              "      <th></th>\n",
              "      <th>type</th>\n",
              "      <th>posts</th>\n",
              "    </tr>\n",
              "  </thead>\n",
              "  <tbody>\n",
              "    <tr>\n",
              "      <th>0</th>\n",
              "      <td>INFJ</td>\n",
              "      <td>'http://www.youtube.com/watch?v=qsXHcwe3krw|||...</td>\n",
              "    </tr>\n",
              "    <tr>\n",
              "      <th>1</th>\n",
              "      <td>ENTP</td>\n",
              "      <td>'I'm finding the lack of me in these posts ver...</td>\n",
              "    </tr>\n",
              "    <tr>\n",
              "      <th>2</th>\n",
              "      <td>INTP</td>\n",
              "      <td>'Good one  _____   https://www.youtube.com/wat...</td>\n",
              "    </tr>\n",
              "    <tr>\n",
              "      <th>3</th>\n",
              "      <td>INTJ</td>\n",
              "      <td>'Dear INTP,   I enjoyed our conversation the o...</td>\n",
              "    </tr>\n",
              "    <tr>\n",
              "      <th>4</th>\n",
              "      <td>ENTJ</td>\n",
              "      <td>'You're fired.|||That's another silly misconce...</td>\n",
              "    </tr>\n",
              "  </tbody>\n",
              "</table>\n",
              "</div>"
            ],
            "text/plain": [
              "   type                                              posts\n",
              "0  INFJ  'http://www.youtube.com/watch?v=qsXHcwe3krw|||...\n",
              "1  ENTP  'I'm finding the lack of me in these posts ver...\n",
              "2  INTP  'Good one  _____   https://www.youtube.com/wat...\n",
              "3  INTJ  'Dear INTP,   I enjoyed our conversation the o...\n",
              "4  ENTJ  'You're fired.|||That's another silly misconce..."
            ]
          },
          "execution_count": 8,
          "metadata": {},
          "output_type": "execute_result"
        }
      ],
      "source": [
        "mbti_df.head()"
      ]
    },
    {
      "cell_type": "code",
      "execution_count": 9,
      "metadata": {
        "colab": {
          "base_uri": "https://localhost:8080/",
          "height": 122
        },
        "id": "Z8X_Qy3JVAbR",
        "outputId": "308c3a96-4eb8-4a82-ad10-70a6af29c5cc"
      },
      "outputs": [
        {
          "data": {
            "text/plain": [
              "\"'http://www.youtube.com/watch?v=qsXHcwe3krw|||http://41.media.tumblr.com/tumblr_lfouy03PMA1qa1rooo1_500.jpg|||enfp and intj moments  https://www.youtube.com/watch?v=iz7lE1g4XM4  sportscenter not top ten plays  https://www.youtube.com/watch?v=uCdfze1etec  pranks|||What has been the most life-changing experience in your life?|||http://www.youtube.com/watch?v=vXZeYwwRDw8   http://www.youtube.com/watch?v=u8ejam5DP3E  On repeat for most of today.|||May the PerC Experience immerse you.|||The last thing my INFJ friend posted on his facebook before committing suicide the next day. Rest in peace~   http://vimeo.com/22842206|||Hello ENFJ7. Sorry to hear of your distress. It's only natural for a relationship to not be perfection all the time in every moment of existence. Try to figure the hard times as times of growth, as...|||84389  84390  http://wallpaperpassion.com/upload/23700/friendship-boy-and-girl-wallpaper.jpg  http://assets.dornob.com/wp-content/uploads/2010/04/round-home-design.jpg ...|||Welcome and stuff.|||http://playeressence.com/wp-content/uploads/2013/08/RED-red-the-pokemon-master-32560474-450-338.jpg  Game. Set. Match.|||Prozac, wellbrutin, at least thirty minutes of moving your legs (and I don't mean moving them while sitting in your same desk chair), weed in moderation (maybe try edibles as a healthier alternative...|||Basically come up with three items you've determined that each type (or whichever types you want to do) would more than likely use, given each types' cognitive functions and whatnot, when left by...|||All things in moderation.  Sims is indeed a video game, and a good one at that. Note: a good one at that is somewhat subjective in that I am not completely promoting the death of any given Sim...|||Dear ENFP:  What were your favorite video games growing up and what are your now, current favorite video games? :cool:|||https://www.youtube.com/watch?v=QyPqT8umzmY|||It appears to be too late. :sad:|||There's someone out there for everyone.|||Wait... I thought confidence was a good thing.|||I just cherish the time of solitude b/c i revel within my inner world more whereas most other time i'd be workin... just enjoy the me time while you can. Don't worry, people will always be around to...|||Yo entp ladies... if you're into a complimentary personality,well, hey.|||... when your main social outlet is xbox live conversations and even then you verbally fatigue quickly.|||http://www.youtube.com/watch?v=gDhy7rdfm14  I really dig the part from 1:46 to 2:50|||http://www.youtube.com/watch?v=msqXffgh7b8|||Banned because this thread requires it of me.|||Get high in backyard, roast and eat marshmellows in backyard while conversing over something intellectual, followed by massages and kisses.|||http://www.youtube.com/watch?v=Mw7eoU3BMbE|||http://www.youtube.com/watch?v=4V2uYORhQOk|||http://www.youtube.com/watch?v=SlVmgFQQ0TI|||Banned for too many b's in that sentence. How could you! Think of the B!|||Banned for watching movies in the corner with the dunces.|||Banned because Health class clearly taught you nothing about peer pressure.|||Banned for a whole host of reasons!|||http://www.youtube.com/watch?v=IRcrv41hgz4|||1) Two baby deer on left and right munching on a beetle in the middle.  2) Using their own blood, two cavemen diary today's latest happenings on their designated cave diary wall.  3) I see it as...|||a pokemon world  an infj society  everyone becomes an optimist|||49142|||http://www.youtube.com/watch?v=ZRCEq_JFeFM|||http://discovermagazine.com/2012/jul-aug/20-things-you-didnt-know-about-deserts/desert.jpg|||http://oyster.ignimgs.com/mediawiki/apis.ign.com/pokemon-silver-version/d/dd/Ditto.gif|||http://www.serebii.net/potw-dp/Scizor.jpg|||Not all artists are artists because they draw. It's the idea that counts in forming something of your own... like a signature.|||Welcome to the robot ranks, person who downed my self-esteem cuz I'm not an avid signature artist like herself. :proud:|||Banned for taking all the room under my bed. Ya gotta learn to share with the roaches.|||http://www.youtube.com/watch?v=w8IgImn57aQ|||Banned for being too much of a thundering, grumbling kind of storm... yep.|||Ahh... old high school music I haven't heard in ages.   http://www.youtube.com/watch?v=dcCRUPCdB1w|||I failed a public speaking class a few years ago and I've sort of learned what I could do better were I to be in that position again. A big part of my failure was just overloading myself with too...|||I like this person's mentality. He's a confirmed INTJ by the way. http://www.youtube.com/watch?v=hGKLI-GEc6M|||Move to the Denver area and start a new life for myself.'\""
            ]
          },
          "execution_count": 9,
          "metadata": {},
          "output_type": "execute_result"
        }
      ],
      "source": [
        "mbti_df.posts[0]"
      ]
    },
    {
      "cell_type": "code",
      "execution_count": 10,
      "metadata": {
        "colab": {
          "base_uri": "https://localhost:8080/"
        },
        "id": "Zt_dW_a2gh8X",
        "outputId": "5661a054-c4ce-48b5-a722-1e31e9a61c64"
      },
      "outputs": [
        {
          "name": "stdout",
          "output_type": "stream",
          "text": [
            "<class 'pandas.core.frame.DataFrame'>\n",
            "RangeIndex: 8675 entries, 0 to 8674\n",
            "Data columns (total 2 columns):\n",
            " #   Column  Non-Null Count  Dtype \n",
            "---  ------  --------------  ----- \n",
            " 0   type    8675 non-null   object\n",
            " 1   posts   8675 non-null   object\n",
            "dtypes: object(2)\n",
            "memory usage: 135.7+ KB\n"
          ]
        }
      ],
      "source": [
        "mbti_df.info()"
      ]
    },
    {
      "cell_type": "markdown",
      "metadata": {
        "id": "_v4Sdpu6C7oS"
      },
      "source": [
        "## Data Visualization"
      ]
    },
    {
      "cell_type": "code",
      "execution_count": 11,
      "metadata": {
        "colab": {
          "base_uri": "https://localhost:8080/",
          "height": 311
        },
        "id": "Gg8KQ7D9BLq4",
        "outputId": "5b927ba5-f688-412e-b96c-d93001c78268"
      },
      "outputs": [
        {
          "data": {
            "image/png": "[encoded data removed]",
            "text/plain": [
              "<Figure size 640x480 with 1 Axes>"
            ]
          },
          "metadata": {},
          "output_type": "display_data"
        }
      ],
      "source": [
        "pd.DataFrame(mbti_df.type.value_counts()).plot.bar()\n",
        "plt.ylabel('Frequency')\n",
        "plt.xlabel('Types of Categories')\n",
        "plt.title('Bar graph showing frequency of different types of personalities')\n",
        "plt.show()"
      ]
    },
    {
      "cell_type": "code",
      "execution_count": 12,
      "metadata": {
        "colab": {
          "base_uri": "https://localhost:8080/",
          "height": 699
        },
        "id": "O-83eETeCuWp",
        "outputId": "f8f80bca-cd09-404e-d0bc-d25d9fb1ca99"
      },
      "outputs": [
        {
          "data": {
            "image/png": "[encoded data removed]",
            "text/plain": [
              "<Figure size 1200x1200 with 1 Axes>"
            ]
          },
          "metadata": {},
          "output_type": "display_data"
        }
      ],
      "source": [
        "mbti_df.type.value_counts().plot(kind='pie',figsize=(12,12), autopct='%1.1f%%', explode=[0.1,0,0,0,0,0,0,0,0,0,0,0,0,0,0,0])\n",
        "plt.title('Pie plot showing different types of personalities')\n",
        "plt.show()"
      ]
    },
    {
      "cell_type": "code",
      "execution_count": 13,
      "metadata": {
        "colab": {
          "base_uri": "https://localhost:8080/",
          "height": 367
        },
        "id": "-d6a-vypqxnF",
        "outputId": "f7359187-29f9-453e-f5d2-d3fae75b6dbe"
      },
      "outputs": [
        {
          "name": "stderr",
          "output_type": "stream",
          "text": [
            "/tmp/ipykernel_62924/70030955.py:1: UserWarning: \n",
            "\n",
            "`distplot` is a deprecated function and will be removed in seaborn v0.14.0.\n",
            "\n",
            "Please adapt your code to use either `displot` (a figure-level function with\n",
            "similar flexibility) or `histplot` (an axes-level function for histograms).\n",
            "\n",
            "For a guide to updating your code to use the new functions, please see\n",
            "https://gist.github.com/mwaskom/de44147ed2974457ad6372750bbe5751\n",
            "\n",
            "  sns.distplot(mbti_df[\"posts\"].apply(len))\n"
          ]
        },
        {
          "data": {
            "text/plain": [
              "Text(0.5, 1.0, 'Distribution of lengths of the post')"
            ]
          },
          "execution_count": 13,
          "metadata": {},
          "output_type": "execute_result"
        },
        {
          "data": {
            "image/png": "[encoded data removed]",
            "text/plain": [
              "<Figure size 640x480 with 1 Axes>"
            ]
          },
          "metadata": {},
          "output_type": "display_data"
        }
      ],
      "source": [
        "sns.distplot(mbti_df[\"posts\"].apply(len))\n",
        "plt.xlabel(\"Length of posts\")\n",
        "plt.ylabel(\"Density\")\n",
        "plt.title(\"Distribution of lengths of the post\")"
      ]
    },
    {
      "cell_type": "markdown",
      "metadata": {
        "id": "1Jg3pDShDARL"
      },
      "source": [
        "##Preprocessing of Dataset"
      ]
    },
    {
      "cell_type": "code",
      "execution_count": 14,
      "metadata": {
        "id": "T8cAuh6C_S8h"
      },
      "outputs": [],
      "source": [
        "mbti_df[\"posts\"] = mbti_df[\"posts\"].str.lower()       #converts text in posts to lowercase as it is preferred in nlp"
      ]
    },
    {
      "cell_type": "code",
      "execution_count": 15,
      "metadata": {
        "id": "wmLdL7Fj_bgY"
      },
      "outputs": [],
      "source": [
        "for i in range(len(mbti_df)):\n",
        "  post_temp=mbti_df._get_value(i, 'posts')\n",
        "  pattern = re.compile(r'https?://[a-zA-Z0-9./-]*/[a-zA-Z0-9?=_.]*[_0-9.a-zA-Z/-]*')    #to match url links present in the post\n",
        "  post_temp= re.sub(pattern, ' ', post_temp)                                            #to replace that url link with space\n",
        "  mbti_df._set_value(i, 'posts',post_temp)"
      ]
    },
    {
      "cell_type": "code",
      "execution_count": 16,
      "metadata": {
        "id": "3qp_SgT_AKOS"
      },
      "outputs": [],
      "source": [
        "for i in range(len(mbti_df)):\n",
        "  post_temp=mbti_df._get_value(i, 'posts')\n",
        "  pattern = re.compile(r'[0-9]')                                    #to match numbers from 0 to 9\n",
        "  post_temp= re.sub(pattern, ' ', post_temp)                        #to replace them with space\n",
        "  pattern = re.compile('\\W+')                                       #to match alphanumeric characters\n",
        "  post_temp= re.sub(pattern, ' ', post_temp)                        #to replace them with space\n",
        "  pattern = re.compile(r'[_+]')\n",
        "  post_temp= re.sub(pattern, ' ', post_temp)\n",
        "  mbti_df._set_value(i, 'posts',post_temp)"
      ]
    },
    {
      "cell_type": "code",
      "execution_count": 17,
      "metadata": {
        "id": "8DsdXMOIAPQS"
      },
      "outputs": [],
      "source": [
        "for i in range(len(mbti_df)):\n",
        "  post_temp=mbti_df._get_value(i, 'posts')\n",
        "  pattern = re.compile('\\s+')                                     #to match multiple whitespaces\n",
        "  post_temp= re.sub(pattern, ' ', post_temp)                      #to replace them with single whitespace\n",
        "  mbti_df._set_value(i, 'posts', post_temp)"
      ]
    },
    {
      "cell_type": "code",
      "execution_count": 18,
      "metadata": {
        "colab": {
          "base_uri": "https://localhost:8080/"
        },
        "id": "3ZmTr3xZfYRJ",
        "outputId": "a344db7c-d293-4350-e461-d70022a0bfcc"
      },
      "outputs": [
        {
          "name": "stderr",
          "output_type": "stream",
          "text": [
            "[nltk_data] Downloading package stopwords to\n",
            "[nltk_data]     /home/shambhavi/nltk_data...\n",
            "[nltk_data]   Package stopwords is already up-to-date!\n"
          ]
        },
        {
          "data": {
            "text/plain": [
              "True"
            ]
          },
          "execution_count": 18,
          "metadata": {},
          "output_type": "execute_result"
        }
      ],
      "source": [
        "from nltk.corpus import stopwords\n",
        "nltk.download('stopwords')"
      ]
    },
    {
      "cell_type": "code",
      "execution_count": 19,
      "metadata": {
        "id": "4qNv7j1JATMV"
      },
      "outputs": [],
      "source": [
        "remove_words = stopwords.words(\"english\")\n",
        "for i in range(mbti_df.shape[0]):\n",
        "  post_temp=mbti_df._get_value(i, 'posts')\n",
        "  post_temp=\" \".join([w for w in post_temp.split(' ') if w not in remove_words])    #to remove stopwords\n",
        "  mbti_df._set_value(i, 'posts', post_temp)"
      ]
    },
    {
      "cell_type": "code",
      "execution_count": 20,
      "metadata": {
        "colab": {
          "base_uri": "https://localhost:8080/"
        },
        "id": "y8USLXEUAXVN",
        "outputId": "2460869d-df2c-4e47-ff6f-63c1314c359f"
      },
      "outputs": [
        {
          "name": "stderr",
          "output_type": "stream",
          "text": [
            "[nltk_data] Downloading package wordnet to\n",
            "[nltk_data]     /home/shambhavi/nltk_data...\n",
            "[nltk_data]   Package wordnet is already up-to-date!\n"
          ]
        },
        {
          "data": {
            "text/plain": [
              "True"
            ]
          },
          "execution_count": 20,
          "metadata": {},
          "output_type": "execute_result"
        }
      ],
      "source": [
        "from nltk.stem import WordNetLemmatizer\n",
        "lemmatizer = WordNetLemmatizer()\n",
        "nltk.download('wordnet')"
      ]
    },
    {
      "cell_type": "code",
      "execution_count": 21,
      "metadata": {
        "id": "li96Li0_tFHV"
      },
      "outputs": [],
      "source": [
        "for i in range(mbti_df.shape[0]):\n",
        "  post_temp=mbti_df._get_value(i, 'posts')\n",
        "  post_temp=\" \".join([lemmatizer.lemmatize(w) for w in post_temp.split(' ')])   #to implement lemmetization i.e. to group together different forms of a word\n",
        "  mbti_df._set_value(i, 'posts', post_temp)"
      ]
    },
    {
      "cell_type": "code",
      "execution_count": 22,
      "metadata": {
        "colab": {
          "base_uri": "https://localhost:8080/"
        },
        "id": "EAY1cPXo2V_9",
        "outputId": "a20f6aa2-bafa-4dd9-a065-b003b2155dda"
      },
      "outputs": [
        {
          "name": "stdout",
          "output_type": "stream",
          "text": [
            "      type                                              posts\n",
            "0     INFJ   enfp intj moment sportscenter top ten play pr...\n",
            "1     ENTP   finding lack post alarming sex boring positio...\n",
            "2     INTP   good one course say know blessing curse absol...\n",
            "3     INTJ   dear intp enjoyed conversation day esoteric g...\n",
            "4     ENTJ   fired another silly misconception approaching...\n",
            "...    ...                                                ...\n",
            "8670  ISFP   ixfp always think cat fi doms reason especial...\n",
            "8671  ENFP   thread already exists someplace else post hec...\n",
            "8672  INTP   many question thing would take purple pill pi...\n",
            "8673  INFP   conflicted right come wanting child honestly ...\n",
            "8674  INFP   long since personalitycafe although seem chan...\n",
            "\n",
            "[8675 rows x 2 columns]\n"
          ]
        }
      ],
      "source": [
        "print(mbti_df)"
      ]
    },
    {
      "cell_type": "code",
      "execution_count": 23,
      "metadata": {
        "id": "PWWzo1xJjmlJ"
      },
      "outputs": [],
      "source": [
        "from sklearn.model_selection import train_test_split\n",
        "train_data,test_data=train_test_split(mbti_df,test_size=0.2,random_state=42,stratify=mbti_df.type)"
      ]
    },
    {
      "cell_type": "code",
      "execution_count": 24,
      "metadata": {
        "colab": {
          "base_uri": "https://localhost:8080/"
        },
        "id": "t2Px4BOhocLG",
        "outputId": "74324bb6-37f8-4f58-d39d-32571c965683"
      },
      "outputs": [
        {
          "name": "stdout",
          "output_type": "stream",
          "text": [
            "      type                                              posts\n",
            "7814  INFP   macona depends big family extroverted people ...\n",
            "2233  ENFJ   blodsmak sveltihel brilliant episode regenera...\n",
            "7261  INFJ   heylena lol compliment accepted thank jeesh f...\n",
            "7794  INFJ   pac right rocket coffin like packed warhead r...\n",
            "2950  INTJ   title thread misleading mention world dominat...\n",
            "...    ...                                                ...\n",
            "2006  INTJ   one sentence restrictive accurately portray d...\n",
            "7137  ISTJ   wanted like odd hybrid dr james wilson house ...\n",
            "6091  ENTP   took cognitive process test got cognitive pro...\n",
            "2997  INFJ   get caught fantacy relationship better forget...\n",
            "5458  ENTJ   doll love movie listed make think tritype one...\n",
            "\n",
            "[1735 rows x 2 columns]\n"
          ]
        }
      ],
      "source": [
        "print(test_data)"
      ]
    },
    {
      "cell_type": "code",
      "execution_count": 25,
      "metadata": {
        "id": "bto8kof7SbRl"
      },
      "outputs": [
        {
          "name": "stdout",
          "output_type": "stream",
          "text": [
            "7814     macona depends big family extroverted people ...\n",
            "2233     blodsmak sveltihel brilliant episode regenera...\n",
            "7261     heylena lol compliment accepted thank jeesh f...\n",
            "7794     pac right rocket coffin like packed warhead r...\n",
            "2950     title thread misleading mention world dominat...\n",
            "                              ...                        \n",
            "2006     one sentence restrictive accurately portray d...\n",
            "7137     wanted like odd hybrid dr james wilson house ...\n",
            "6091     took cognitive process test got cognitive pro...\n",
            "2997     get caught fantacy relationship better forget...\n",
            "5458     doll love movie listed make think tritype one...\n",
            "Name: posts, Length: 1735, dtype: object\n"
          ]
        }
      ],
      "source": [
        "vectorizer=TfidfVectorizer( max_features=5000,stop_words='english')\n",
        "vectorizer.fit(train_data.posts)\n",
        "train_post=vectorizer.transform(train_data.posts).toarray()\n",
        "test_post=vectorizer.transform(test_data.posts).toarray()\n",
        "print(test_data.posts)"
      ]
    },
    {
      "cell_type": "code",
      "execution_count": 26,
      "metadata": {
        "id": "NXKwMd_0auTU"
      },
      "outputs": [],
      "source": [
        "from sklearn.preprocessing import LabelEncoder\n",
        "target_encoder=LabelEncoder()\n",
        "train_target=target_encoder.fit_transform(train_data.type)\n",
        "test_target=target_encoder.fit_transform(test_data.type)"
      ]
    },
    {
      "cell_type": "markdown",
      "metadata": {
        "id": "c568E9sYCrYt"
      },
      "source": [
        "##Training different models and testing their performance"
      ]
    },
    {
      "cell_type": "markdown",
      "metadata": {
        "id": "R0p-CxWhFV14"
      },
      "source": [
        "###Gaussian Naive Bayes"
      ]
    },
    {
      "cell_type": "code",
      "execution_count": 27,
      "metadata": {
        "id": "TqL3uVoa2YCN"
      },
      "outputs": [],
      "source": [
        "from sklearn.naive_bayes import GaussianNB"
      ]
    },
    {
      "cell_type": "code",
      "execution_count": 28,
      "metadata": {
        "id": "QsYBNcbC2ZJD"
      },
      "outputs": [],
      "source": [
        "model_gnb=GaussianNB()\n",
        "model_gnb.fit(train_post,train_target)\n",
        "pred_gnb=model_gnb.predict(test_post)"
      ]
    },
    {
      "cell_type": "code",
      "execution_count": 29,
      "metadata": {
        "id": "FEWDc3PA2mLU"
      },
      "outputs": [
        {
          "ename": "KeyboardInterrupt",
          "evalue": "",
          "output_type": "error",
          "traceback": [
            "\u001b[0;31m---------------------------------------------------------------------------\u001b[0m",
            "\u001b[0;31mKeyboardInterrupt\u001b[0m                         Traceback (most recent call last)",
            "\u001b[1;32m/home/shambhavi/Documents/Megathon '23/Final/MBTI_personality_prediction_model.ipynb Cell 29\u001b[0m line \u001b[0;36m1\n\u001b[0;32m----> <a href='vscode-notebook-cell:/home/shambhavi/Documents/Megathon%20%2723/Final/MBTI_personality_prediction_model.ipynb#X40sZmlsZQ%3D%3D?line=0'>1</a>\u001b[0m pred_training_gnb\u001b[39m=\u001b[39mmodel_gnb\u001b[39m.\u001b[39;49mpredict(train_post)\n",
            "File \u001b[0;32m~/.local/lib/python3.10/site-packages/sklearn/naive_bayes.py:106\u001b[0m, in \u001b[0;36m_BaseNB.predict\u001b[0;34m(self, X)\u001b[0m\n\u001b[1;32m    104\u001b[0m check_is_fitted(\u001b[39mself\u001b[39m)\n\u001b[1;32m    105\u001b[0m X \u001b[39m=\u001b[39m \u001b[39mself\u001b[39m\u001b[39m.\u001b[39m_check_X(X)\n\u001b[0;32m--> 106\u001b[0m jll \u001b[39m=\u001b[39m \u001b[39mself\u001b[39;49m\u001b[39m.\u001b[39;49m_joint_log_likelihood(X)\n\u001b[1;32m    107\u001b[0m \u001b[39mreturn\u001b[39;00m \u001b[39mself\u001b[39m\u001b[39m.\u001b[39mclasses_[np\u001b[39m.\u001b[39margmax(jll, axis\u001b[39m=\u001b[39m\u001b[39m1\u001b[39m)]\n",
            "File \u001b[0;32m~/.local/lib/python3.10/site-packages/sklearn/naive_bayes.py:516\u001b[0m, in \u001b[0;36mGaussianNB._joint_log_likelihood\u001b[0;34m(self, X)\u001b[0m\n\u001b[1;32m    514\u001b[0m     jointi \u001b[39m=\u001b[39m np\u001b[39m.\u001b[39mlog(\u001b[39mself\u001b[39m\u001b[39m.\u001b[39mclass_prior_[i])\n\u001b[1;32m    515\u001b[0m     n_ij \u001b[39m=\u001b[39m \u001b[39m-\u001b[39m\u001b[39m0.5\u001b[39m \u001b[39m*\u001b[39m np\u001b[39m.\u001b[39msum(np\u001b[39m.\u001b[39mlog(\u001b[39m2.0\u001b[39m \u001b[39m*\u001b[39m np\u001b[39m.\u001b[39mpi \u001b[39m*\u001b[39m \u001b[39mself\u001b[39m\u001b[39m.\u001b[39mvar_[i, :]))\n\u001b[0;32m--> 516\u001b[0m     n_ij \u001b[39m-\u001b[39m\u001b[39m=\u001b[39m \u001b[39m0.5\u001b[39m \u001b[39m*\u001b[39m np\u001b[39m.\u001b[39;49msum(((X \u001b[39m-\u001b[39;49m \u001b[39mself\u001b[39;49m\u001b[39m.\u001b[39;49mtheta_[i, :]) \u001b[39m*\u001b[39;49m\u001b[39m*\u001b[39;49m \u001b[39m2\u001b[39;49m) \u001b[39m/\u001b[39;49m (\u001b[39mself\u001b[39;49m\u001b[39m.\u001b[39;49mvar_[i, :]), \u001b[39m1\u001b[39;49m)\n\u001b[1;32m    517\u001b[0m     joint_log_likelihood\u001b[39m.\u001b[39mappend(jointi \u001b[39m+\u001b[39m n_ij)\n\u001b[1;32m    519\u001b[0m joint_log_likelihood \u001b[39m=\u001b[39m np\u001b[39m.\u001b[39marray(joint_log_likelihood)\u001b[39m.\u001b[39mT\n",
            "File \u001b[0;32m<__array_function__ internals>:180\u001b[0m, in \u001b[0;36msum\u001b[0;34m(*args, **kwargs)\u001b[0m\n",
            "File \u001b[0;32m~/.local/lib/python3.10/site-packages/numpy/core/fromnumeric.py:2183\u001b[0m, in \u001b[0;36m_sum_dispatcher\u001b[0;34m(a, axis, dtype, out, keepdims, initial, where)\u001b[0m\n\u001b[1;32m   2113\u001b[0m \u001b[39m    \u001b[39m\u001b[39m\"\"\"\u001b[39;00m\n\u001b[1;32m   2114\u001b[0m \u001b[39m    Clip (limit) the values in an array.\u001b[39;00m\n\u001b[1;32m   2115\u001b[0m \n\u001b[0;32m   (...)\u001b[0m\n\u001b[1;32m   2178\u001b[0m \n\u001b[1;32m   2179\u001b[0m \u001b[39m    \"\"\"\u001b[39;00m\n\u001b[1;32m   2180\u001b[0m     \u001b[39mreturn\u001b[39;00m _wrapfunc(a, \u001b[39m'\u001b[39m\u001b[39mclip\u001b[39m\u001b[39m'\u001b[39m, a_min, a_max, out\u001b[39m=\u001b[39mout, \u001b[39m*\u001b[39m\u001b[39m*\u001b[39mkwargs)\n\u001b[0;32m-> 2183\u001b[0m \u001b[39mdef\u001b[39;00m \u001b[39m_sum_dispatcher\u001b[39m(a, axis\u001b[39m=\u001b[39m\u001b[39mNone\u001b[39;00m, dtype\u001b[39m=\u001b[39m\u001b[39mNone\u001b[39;00m, out\u001b[39m=\u001b[39m\u001b[39mNone\u001b[39;00m, keepdims\u001b[39m=\u001b[39m\u001b[39mNone\u001b[39;00m,\n\u001b[1;32m   2184\u001b[0m                     initial\u001b[39m=\u001b[39m\u001b[39mNone\u001b[39;00m, where\u001b[39m=\u001b[39m\u001b[39mNone\u001b[39;00m):\n\u001b[1;32m   2185\u001b[0m     \u001b[39mreturn\u001b[39;00m (a, out)\n\u001b[1;32m   2188\u001b[0m \u001b[39m@array_function_dispatch\u001b[39m(_sum_dispatcher)\n\u001b[1;32m   2189\u001b[0m \u001b[39mdef\u001b[39;00m \u001b[39msum\u001b[39m(a, axis\u001b[39m=\u001b[39m\u001b[39mNone\u001b[39;00m, dtype\u001b[39m=\u001b[39m\u001b[39mNone\u001b[39;00m, out\u001b[39m=\u001b[39m\u001b[39mNone\u001b[39;00m, keepdims\u001b[39m=\u001b[39mnp\u001b[39m.\u001b[39m_NoValue,\n\u001b[1;32m   2190\u001b[0m         initial\u001b[39m=\u001b[39mnp\u001b[39m.\u001b[39m_NoValue, where\u001b[39m=\u001b[39mnp\u001b[39m.\u001b[39m_NoValue):\n",
            "\u001b[0;31mKeyboardInterrupt\u001b[0m: "
          ]
        }
      ],
      "source": [
        "pred_training_gnb=model_gnb.predict(train_post)"
      ]
    },
    {
      "cell_type": "code",
      "execution_count": null,
      "metadata": {
        "colab": {
          "base_uri": "https://localhost:8080/"
        },
        "id": "P3QYglZC2yMw",
        "outputId": "447ef4da-d5ae-41a2-a75b-56ada5735fc1"
      },
      "outputs": [
        {
          "name": "stdout",
          "output_type": "stream",
          "text": [
            "The train accuracy score for model trained on Gaussian Naive Bayes Classifier is: 0.6785302593659942\n"
          ]
        }
      ],
      "source": [
        "print(\"The train accuracy score for model trained on Gaussian Naive Bayes Classifier is:\",accuracy_score(train_target,pred_training_gnb))"
      ]
    },
    {
      "cell_type": "code",
      "execution_count": null,
      "metadata": {
        "colab": {
          "base_uri": "https://localhost:8080/"
        },
        "id": "2dHJo8eK2yMw",
        "outputId": "94e45a88-35f3-4b3c-bc79-9559234dc89b"
      },
      "outputs": [
        {
          "name": "stdout",
          "output_type": "stream",
          "text": [
            "The test acccuracy score for model trained on Gaussian Naive Bayes Classifier is: 0.2639769452449568\n"
          ]
        }
      ],
      "source": [
        "print(\"The test acccuracy score for model trained on Gaussian Naive Bayes Classifier is:\",accuracy_score(test_target,pred_gnb))"
      ]
    },
    {
      "cell_type": "code",
      "execution_count": null,
      "metadata": {
        "colab": {
          "base_uri": "https://localhost:8080/"
        },
        "id": "o8QStU0DmGPD",
        "outputId": "c891e9d6-948a-4bc7-ba76-43e188fa5b96"
      },
      "outputs": [
        {
          "name": "stderr",
          "output_type": "stream",
          "text": [
            "/home/rayaankhan2003/.local/lib/python3.10/site-packages/sklearn/metrics/_classification.py:1469: UndefinedMetricWarning: Precision and F-score are ill-defined and being set to 0.0 in labels with no predicted samples. Use `zero_division` parameter to control this behavior.\n",
            "  _warn_prf(average, modifier, msg_start, len(result))\n",
            "/home/rayaankhan2003/.local/lib/python3.10/site-packages/sklearn/metrics/_classification.py:1469: UndefinedMetricWarning: Precision and F-score are ill-defined and being set to 0.0 in labels with no predicted samples. Use `zero_division` parameter to control this behavior.\n",
            "  _warn_prf(average, modifier, msg_start, len(result))\n",
            "/home/rayaankhan2003/.local/lib/python3.10/site-packages/sklearn/metrics/_classification.py:1469: UndefinedMetricWarning: Precision and F-score are ill-defined and being set to 0.0 in labels with no predicted samples. Use `zero_division` parameter to control this behavior.\n",
            "  _warn_prf(average, modifier, msg_start, len(result))\n"
          ]
        },
        {
          "name": "stdout",
          "output_type": "stream",
          "text": [
            "Test classification report of Gaussian Naive Bayes\n",
            "               precision    recall  f1-score   support\n",
            "\n",
            "        ENFJ       0.09      0.05      0.07        38\n",
            "        ENFP       0.21      0.24      0.22       135\n",
            "        ENTJ       0.01      0.02      0.02        46\n",
            "        ENTP       0.24      0.20      0.22       137\n",
            "        ESFJ       0.00      0.00      0.00         9\n",
            "        ESFP       0.00      0.00      0.00        10\n",
            "        ESTJ       0.00      0.00      0.00         8\n",
            "        ESTP       0.00      0.00      0.00        18\n",
            "        INFJ       0.35      0.29      0.32       294\n",
            "        INFP       0.44      0.34      0.39       366\n",
            "        INTJ       0.28      0.30      0.29       218\n",
            "        INTP       0.36      0.32      0.34       261\n",
            "        ISFJ       0.00      0.00      0.00        33\n",
            "        ISFP       0.08      0.15      0.11        54\n",
            "        ISTJ       0.18      0.15      0.16        41\n",
            "        ISTP       0.09      0.27      0.13        67\n",
            "\n",
            "    accuracy                           0.26      1735\n",
            "   macro avg       0.15      0.15      0.14      1735\n",
            "weighted avg       0.29      0.26      0.27      1735\n",
            "\n"
          ]
        }
      ],
      "source": [
        "from sklearn.metrics import classification_report\n",
        "personality_types=target_encoder.inverse_transform([i for i in range(16)])\n",
        "print('Test classification report of Gaussian Naive Bayes\\n',classification_report(test_target,model_gnb.predict(test_post),target_names=personality_types))"
      ]
    },
    {
      "cell_type": "markdown",
      "metadata": {
        "id": "rw9X8Ve7Fa-A"
      },
      "source": [
        "###Multinomial Naive Bayes"
      ]
    },
    {
      "cell_type": "code",
      "execution_count": null,
      "metadata": {
        "id": "vKBTbpxn3rQt"
      },
      "outputs": [],
      "source": [
        "from sklearn.naive_bayes import MultinomialNB"
      ]
    },
    {
      "cell_type": "code",
      "execution_count": null,
      "metadata": {
        "id": "NcgFgatV3rQt"
      },
      "outputs": [],
      "source": [
        "model_mnb=MultinomialNB()\n",
        "model_mnb.fit(train_post,train_target)\n",
        "pred_mnb=model_mnb.predict(test_post)"
      ]
    },
    {
      "cell_type": "code",
      "execution_count": null,
      "metadata": {
        "id": "F-beHAM43rQu"
      },
      "outputs": [],
      "source": [
        "pred_training_mnb=model_mnb.predict(train_post)"
      ]
    },
    {
      "cell_type": "code",
      "execution_count": null,
      "metadata": {
        "colab": {
          "base_uri": "https://localhost:8080/"
        },
        "id": "uIuIINdr3rQu",
        "outputId": "309e5c3a-e103-4b05-d74b-cc3bb396e537"
      },
      "outputs": [
        {
          "name": "stdout",
          "output_type": "stream",
          "text": [
            "The train accuracy score for model trained on Multinomial Naive Bayes Classifier is: 0.4609510086455331\n"
          ]
        }
      ],
      "source": [
        "print(\"The train accuracy score for model trained on Multinomial Naive Bayes Classifier is:\",accuracy_score(train_target,pred_training_mnb))"
      ]
    },
    {
      "cell_type": "code",
      "execution_count": null,
      "metadata": {
        "colab": {
          "base_uri": "https://localhost:8080/"
        },
        "id": "XN-cgvYc3rQu",
        "outputId": "78abbb9b-fc92-438f-ee8b-8462be4bad4f"
      },
      "outputs": [
        {
          "name": "stdout",
          "output_type": "stream",
          "text": [
            "The test acccuracy score for model trained on Multinomial Naive Bayes Classifier is: 0.3804034582132565\n"
          ]
        }
      ],
      "source": [
        "print(\"The test acccuracy score for model trained on Multinomial Naive Bayes Classifier is:\",accuracy_score(test_target,pred_mnb))"
      ]
    },
    {
      "cell_type": "code",
      "execution_count": null,
      "metadata": {
        "colab": {
          "base_uri": "https://localhost:8080/"
        },
        "id": "W3uPUI7Fm0Wk",
        "outputId": "bc2e71d3-0685-4330-d103-ed23329c478b"
      },
      "outputs": [
        {
          "name": "stdout",
          "output_type": "stream",
          "text": [
            "Test classification report of Multinomial Naive Bayes \n",
            "               precision    recall  f1-score   support\n",
            "\n",
            "        ENFJ       0.00      0.00      0.00        38\n",
            "        ENFP       1.00      0.01      0.01       135\n",
            "        ENTJ       0.00      0.00      0.00        46\n",
            "        ENTP       0.75      0.02      0.04       137\n",
            "        ESFJ       0.00      0.00      0.00         9\n",
            "        ESFP       0.00      0.00      0.00        10\n",
            "        ESTJ       0.00      0.00      0.00         8\n",
            "        ESTP       0.00      0.00      0.00        18\n",
            "        INFJ       0.37      0.44      0.40       294\n",
            "        INFP       0.32      0.91      0.47       366\n",
            "        INTJ       0.70      0.21      0.32       218\n",
            "        INTP       0.54      0.56      0.55       261\n",
            "        ISFJ       0.00      0.00      0.00        33\n",
            "        ISFP       0.00      0.00      0.00        54\n",
            "        ISTJ       0.00      0.00      0.00        41\n",
            "        ISTP       0.00      0.00      0.00        67\n",
            "\n",
            "    accuracy                           0.38      1735\n",
            "   macro avg       0.23      0.13      0.11      1735\n",
            "weighted avg       0.44      0.38      0.30      1735\n",
            "\n"
          ]
        },
        {
          "name": "stderr",
          "output_type": "stream",
          "text": [
            "/home/rayaankhan2003/.local/lib/python3.10/site-packages/sklearn/metrics/_classification.py:1469: UndefinedMetricWarning: Precision and F-score are ill-defined and being set to 0.0 in labels with no predicted samples. Use `zero_division` parameter to control this behavior.\n",
            "  _warn_prf(average, modifier, msg_start, len(result))\n",
            "/home/rayaankhan2003/.local/lib/python3.10/site-packages/sklearn/metrics/_classification.py:1469: UndefinedMetricWarning: Precision and F-score are ill-defined and being set to 0.0 in labels with no predicted samples. Use `zero_division` parameter to control this behavior.\n",
            "  _warn_prf(average, modifier, msg_start, len(result))\n",
            "/home/rayaankhan2003/.local/lib/python3.10/site-packages/sklearn/metrics/_classification.py:1469: UndefinedMetricWarning: Precision and F-score are ill-defined and being set to 0.0 in labels with no predicted samples. Use `zero_division` parameter to control this behavior.\n",
            "  _warn_prf(average, modifier, msg_start, len(result))\n"
          ]
        }
      ],
      "source": [
        "from sklearn.metrics import classification_report\n",
        "personality_types=target_encoder.inverse_transform([i for i in range(16)])\n",
        "print('Test classification report of Multinomial Naive Bayes \\n',classification_report(test_target,model_mnb.predict(test_post),target_names=personality_types))"
      ]
    },
    {
      "cell_type": "markdown",
      "metadata": {
        "id": "yg9fX1f3FhP7"
      },
      "source": [
        "###Random Forest Classifier"
      ]
    },
    {
      "cell_type": "code",
      "execution_count": null,
      "metadata": {
        "id": "zPPsInedCp8B"
      },
      "outputs": [],
      "source": [
        "from sklearn.ensemble import RandomForestClassifier"
      ]
    },
    {
      "cell_type": "code",
      "execution_count": null,
      "metadata": {
        "id": "957FGg0qbM9L"
      },
      "outputs": [],
      "source": [
        "model_rfc=RandomForestClassifier()\n",
        "model_rfc.fit(train_post,train_target)\n",
        "pred_rfc=model_rfc.predict(test_post)"
      ]
    },
    {
      "cell_type": "code",
      "execution_count": null,
      "metadata": {
        "id": "YS03_yXSxIFx"
      },
      "outputs": [],
      "source": [
        "pred_training_rfc=model_rfc.predict(train_post)"
      ]
    },
    {
      "cell_type": "code",
      "execution_count": null,
      "metadata": {
        "colab": {
          "base_uri": "https://localhost:8080/"
        },
        "id": "w-YqTB4otj21",
        "outputId": "7b1431f7-6a18-4903-d91b-dfd1a8c2c6f2"
      },
      "outputs": [
        {
          "name": "stdout",
          "output_type": "stream",
          "text": [
            "The train accuracy score for model trained on Random Forest Classifier is: 1.0\n"
          ]
        }
      ],
      "source": [
        "print(\"The train accuracy score for model trained on Random Forest Classifier is:\",accuracy_score(train_target,pred_training_rfc))"
      ]
    },
    {
      "cell_type": "code",
      "execution_count": null,
      "metadata": {
        "colab": {
          "base_uri": "https://localhost:8080/"
        },
        "id": "siZ87ojfbkSI",
        "outputId": "1a75c071-dd2d-4552-e946-2a2517c9c1ce"
      },
      "outputs": [
        {
          "name": "stdout",
          "output_type": "stream",
          "text": [
            "The test acccuracy score for model trained on Random Forest Classifier is: 0.5567723342939481\n"
          ]
        }
      ],
      "source": [
        "print(\"The test acccuracy score for model trained on Random Forest Classifier is:\",accuracy_score(test_target,pred_rfc))"
      ]
    },
    {
      "cell_type": "code",
      "execution_count": null,
      "metadata": {
        "colab": {
          "base_uri": "https://localhost:8080/"
        },
        "id": "8PuZ2JcRpYEz",
        "outputId": "15b88253-dce9-49de-cc02-29fa8b981e8c"
      },
      "outputs": [
        {
          "name": "stdout",
          "output_type": "stream",
          "text": [
            "Test classification report of Random Forest Classifier\n",
            "               precision    recall  f1-score   support\n",
            "\n",
            "        ENFJ       1.00      0.03      0.05        38\n",
            "        ENFP       0.77      0.38      0.51       135\n",
            "        ENTJ       0.83      0.11      0.19        46\n",
            "        ENTP       0.66      0.46      0.54       137\n",
            "        ESFJ       0.00      0.00      0.00         9\n",
            "        ESFP       0.00      0.00      0.00        10\n",
            "        ESTJ       0.00      0.00      0.00         8\n",
            "        ESTP       0.00      0.00      0.00        18\n",
            "        INFJ       0.54      0.69      0.61       294\n",
            "        INFP       0.47      0.86      0.61       366\n",
            "        INTJ       0.63      0.50      0.56       218\n",
            "        INTP       0.60      0.74      0.66       261\n",
            "        ISFJ       0.00      0.00      0.00        33\n",
            "        ISFP       1.00      0.11      0.20        54\n",
            "        ISTJ       1.00      0.05      0.09        41\n",
            "        ISTP       0.79      0.28      0.42        67\n",
            "\n",
            "    accuracy                           0.56      1735\n",
            "   macro avg       0.52      0.26      0.28      1735\n",
            "weighted avg       0.60      0.56      0.51      1735\n",
            "\n"
          ]
        },
        {
          "name": "stderr",
          "output_type": "stream",
          "text": [
            "/home/rayaankhan2003/.local/lib/python3.10/site-packages/sklearn/metrics/_classification.py:1469: UndefinedMetricWarning: Precision and F-score are ill-defined and being set to 0.0 in labels with no predicted samples. Use `zero_division` parameter to control this behavior.\n",
            "  _warn_prf(average, modifier, msg_start, len(result))\n",
            "/home/rayaankhan2003/.local/lib/python3.10/site-packages/sklearn/metrics/_classification.py:1469: UndefinedMetricWarning: Precision and F-score are ill-defined and being set to 0.0 in labels with no predicted samples. Use `zero_division` parameter to control this behavior.\n",
            "  _warn_prf(average, modifier, msg_start, len(result))\n",
            "/home/rayaankhan2003/.local/lib/python3.10/site-packages/sklearn/metrics/_classification.py:1469: UndefinedMetricWarning: Precision and F-score are ill-defined and being set to 0.0 in labels with no predicted samples. Use `zero_division` parameter to control this behavior.\n",
            "  _warn_prf(average, modifier, msg_start, len(result))\n"
          ]
        }
      ],
      "source": [
        "from sklearn.metrics import classification_report\n",
        "personality_types=target_encoder.inverse_transform([i for i in range(16)])\n",
        "print('Test classification report of Random Forest Classifier\\n',classification_report(test_target,model_rfc.predict(test_post),target_names=personality_types))"
      ]
    },
    {
      "cell_type": "markdown",
      "metadata": {
        "id": "4I7JctZ8Flwu"
      },
      "source": [
        "###XGBoost Classifier"
      ]
    },
    {
      "cell_type": "code",
      "execution_count": 30,
      "metadata": {
        "id": "YgdjF3EnmFOq"
      },
      "outputs": [],
      "source": [
        "from xgboost import XGBClassifier\n",
        "model_xgb=XGBClassifier()\n",
        "model_xgb.fit(train_post,train_target)\n",
        "pred_xgb=model_xgb.predict(test_post)"
      ]
    },
    {
      "cell_type": "code",
      "execution_count": null,
      "metadata": {
        "id": "XyQcJaL9xbd9"
      },
      "outputs": [],
      "source": [
        "pred_training_xgb=model_xgb.predict(train_post)"
      ]
    },
    {
      "cell_type": "code",
      "execution_count": null,
      "metadata": {
        "colab": {
          "base_uri": "https://localhost:8080/"
        },
        "id": "viANRdgrxbd9",
        "outputId": "ac89a17d-2215-47b0-ed21-af0cd516949e"
      },
      "outputs": [
        {
          "name": "stdout",
          "output_type": "stream",
          "text": [
            "The train accuracy score for model trained on XGBoost Classifier is: 1.0\n"
          ]
        }
      ],
      "source": [
        "print(\"The train accuracy score for model trained on XGBoost Classifier is:\",accuracy_score(train_target,pred_training_xgb))"
      ]
    },
    {
      "cell_type": "code",
      "execution_count": null,
      "metadata": {
        "colab": {
          "base_uri": "https://localhost:8080/"
        },
        "id": "d9W2cx5qmMz0",
        "outputId": "5fbe72cd-a1da-43b7-b0fb-6a221c78974e"
      },
      "outputs": [
        {
          "name": "stdout",
          "output_type": "stream",
          "text": [
            "The test accuracy score for model trained on XGBoost classifier is: 0.6605187319884727\n"
          ]
        }
      ],
      "source": [
        "print(\"The test accuracy score for model trained on XGBoost classifier is:\",accuracy_score(test_target,pred_xgb))"
      ]
    },
    {
      "cell_type": "code",
      "execution_count": null,
      "metadata": {
        "colab": {
          "base_uri": "https://localhost:8080/"
        },
        "id": "fiBkDa5qppMW",
        "outputId": "012db2b8-99bc-47b0-a407-c146f01cb1a8"
      },
      "outputs": [
        {
          "name": "stdout",
          "output_type": "stream",
          "text": [
            "Test classification report of XGBoost Classifier\n",
            "               precision    recall  f1-score   support\n",
            "\n",
            "        ENFJ       0.59      0.42      0.49        38\n",
            "        ENFP       0.68      0.59      0.63       135\n",
            "        ENTJ       0.68      0.41      0.51        46\n",
            "        ENTP       0.62      0.61      0.62       137\n",
            "        ESFJ       1.00      0.11      0.20         9\n",
            "        ESFP       0.00      0.00      0.00        10\n",
            "        ESTJ       1.00      0.38      0.55         8\n",
            "        ESTP       0.44      0.22      0.30        18\n",
            "        INFJ       0.68      0.73      0.71       294\n",
            "        INFP       0.65      0.79      0.71       366\n",
            "        INTJ       0.62      0.64      0.63       218\n",
            "        INTP       0.72      0.79      0.75       261\n",
            "        ISFJ       0.59      0.52      0.55        33\n",
            "        ISFP       0.64      0.39      0.48        54\n",
            "        ISTJ       0.60      0.37      0.45        41\n",
            "        ISTP       0.65      0.55      0.60        67\n",
            "\n",
            "    accuracy                           0.66      1735\n",
            "   macro avg       0.63      0.47      0.51      1735\n",
            "weighted avg       0.66      0.66      0.65      1735\n",
            "\n"
          ]
        },
        {
          "name": "stderr",
          "output_type": "stream",
          "text": [
            "/opt/homebrew/lib/python3.11/site-packages/sklearn/metrics/_classification.py:1469: UndefinedMetricWarning: Precision and F-score are ill-defined and being set to 0.0 in labels with no predicted samples. Use `zero_division` parameter to control this behavior.\n",
            "  _warn_prf(average, modifier, msg_start, len(result))\n",
            "/opt/homebrew/lib/python3.11/site-packages/sklearn/metrics/_classification.py:1469: UndefinedMetricWarning: Precision and F-score are ill-defined and being set to 0.0 in labels with no predicted samples. Use `zero_division` parameter to control this behavior.\n",
            "  _warn_prf(average, modifier, msg_start, len(result))\n",
            "/opt/homebrew/lib/python3.11/site-packages/sklearn/metrics/_classification.py:1469: UndefinedMetricWarning: Precision and F-score are ill-defined and being set to 0.0 in labels with no predicted samples. Use `zero_division` parameter to control this behavior.\n",
            "  _warn_prf(average, modifier, msg_start, len(result))\n"
          ]
        }
      ],
      "source": [
        "from sklearn.metrics import classification_report\n",
        "personality_types=target_encoder.inverse_transform([i for i in range(16)])\n",
        "print('Test classification report of XGBoost Classifier\\n',classification_report(test_target,model_xgb.predict(test_post),target_names=personality_types))"
      ]
    },
    {
      "cell_type": "markdown",
      "metadata": {
        "id": "RUdrYTAnFuYP"
      },
      "source": [
        "###LightGBM Classifier"
      ]
    },
    {
      "cell_type": "code",
      "execution_count": null,
      "metadata": {
        "id": "cJQFdnKsu1eU"
      },
      "outputs": [
        {
          "name": "stdout",
          "output_type": "stream",
          "text": [
            "[LightGBM] [Info] Auto-choosing col-wise multi-threading, the overhead of testing was 0.447228 seconds.\n",
            "You can set `force_col_wise=true` to remove the overhead.\n",
            "[LightGBM] [Info] Total Bins 472063\n",
            "[LightGBM] [Info] Number of data points in the train set: 6940, number of used features: 4999\n",
            "[LightGBM] [Info] Start training from score -3.821177\n",
            "[LightGBM] [Info] Start training from score -2.553488\n",
            "[LightGBM] [Info] Start training from score -3.624701\n",
            "[LightGBM] [Info] Start training from score -2.538782\n",
            "[LightGBM] [Info] Start training from score -5.348549\n",
            "[LightGBM] [Info] Start training from score -5.207471\n",
            "[LightGBM] [Info] Start training from score -5.411070\n",
            "[LightGBM] [Info] Start training from score -4.582377\n",
            "[LightGBM] [Info] Start training from score -1.775183\n",
            "[LightGBM] [Info] Start training from score -1.554764\n",
            "[LightGBM] [Info] Start training from score -2.073121\n",
            "[LightGBM] [Info] Start training from score -1.895201\n",
            "[LightGBM] [Info] Start training from score -3.954708\n",
            "[LightGBM] [Info] Start training from score -3.465160\n",
            "[LightGBM] [Info] Start training from score -3.745191\n",
            "[LightGBM] [Info] Start training from score -3.246635\n",
            "[LightGBM] [Warning] No further splits with positive gain, best gain: -inf\n",
            "[LightGBM] [Warning] No further splits with positive gain, best gain: -inf\n",
            "[LightGBM] [Warning] No further splits with positive gain, best gain: -inf\n",
            "[LightGBM] [Warning] No further splits with positive gain, best gain: -inf\n",
            "[LightGBM] [Warning] No further splits with positive gain, best gain: -inf\n",
            "[LightGBM] [Warning] No further splits with positive gain, best gain: -inf\n",
            "[LightGBM] [Warning] No further splits with positive gain, best gain: -inf\n",
            "[LightGBM] [Warning] No further splits with positive gain, best gain: -inf\n",
            "[LightGBM] [Warning] No further splits with positive gain, best gain: -inf\n",
            "[LightGBM] [Warning] No further splits with positive gain, best gain: -inf\n",
            "[LightGBM] [Warning] No further splits with positive gain, best gain: -inf\n",
            "[LightGBM] [Warning] No further splits with positive gain, best gain: -inf\n",
            "[LightGBM] [Warning] No further splits with positive gain, best gain: -inf\n",
            "[LightGBM] [Warning] No further splits with positive gain, best gain: -inf\n",
            "[LightGBM] [Warning] No further splits with positive gain, best gain: -inf\n",
            "[LightGBM] [Warning] No further splits with positive gain, best gain: -inf\n",
            "[LightGBM] [Warning] No further splits with positive gain, best gain: -inf\n",
            "[LightGBM] [Warning] No further splits with positive gain, best gain: -inf\n",
            "[LightGBM] [Warning] No further splits with positive gain, best gain: -inf\n",
            "[LightGBM] [Warning] No further splits with positive gain, best gain: -inf\n",
            "[LightGBM] [Warning] No further splits with positive gain, best gain: -inf\n",
            "[LightGBM] [Warning] No further splits with positive gain, best gain: -inf\n",
            "[LightGBM] [Warning] No further splits with positive gain, best gain: -inf\n",
            "[LightGBM] [Warning] No further splits with positive gain, best gain: -inf\n",
            "[LightGBM] [Warning] No further splits with positive gain, best gain: -inf\n",
            "[LightGBM] [Warning] No further splits with positive gain, best gain: -inf\n",
            "[LightGBM] [Warning] No further splits with positive gain, best gain: -inf\n",
            "[LightGBM] [Warning] No further splits with positive gain, best gain: -inf\n",
            "[LightGBM] [Warning] No further splits with positive gain, best gain: -inf\n",
            "[LightGBM] [Warning] No further splits with positive gain, best gain: -inf\n",
            "[LightGBM] [Warning] No further splits with positive gain, best gain: -inf\n",
            "[LightGBM] [Warning] No further splits with positive gain, best gain: -inf\n",
            "[LightGBM] [Warning] No further splits with positive gain, best gain: -inf\n",
            "[LightGBM] [Warning] No further splits with positive gain, best gain: -inf\n",
            "[LightGBM] [Warning] No further splits with positive gain, best gain: -inf\n",
            "[LightGBM] [Warning] No further splits with positive gain, best gain: -inf\n",
            "[LightGBM] [Warning] No further splits with positive gain, best gain: -inf\n",
            "[LightGBM] [Warning] No further splits with positive gain, best gain: -inf\n",
            "[LightGBM] [Warning] No further splits with positive gain, best gain: -inf\n",
            "[LightGBM] [Warning] No further splits with positive gain, best gain: -inf\n",
            "[LightGBM] [Warning] No further splits with positive gain, best gain: -inf\n",
            "[LightGBM] [Warning] No further splits with positive gain, best gain: -inf\n",
            "[LightGBM] [Warning] No further splits with positive gain, best gain: -inf\n",
            "[LightGBM] [Warning] No further splits with positive gain, best gain: -inf\n",
            "[LightGBM] [Warning] No further splits with positive gain, best gain: -inf\n",
            "[LightGBM] [Warning] No further splits with positive gain, best gain: -inf\n",
            "[LightGBM] [Warning] No further splits with positive gain, best gain: -inf\n",
            "[LightGBM] [Warning] No further splits with positive gain, best gain: -inf\n",
            "[LightGBM] [Warning] No further splits with positive gain, best gain: -inf\n",
            "[LightGBM] [Warning] No further splits with positive gain, best gain: -inf\n",
            "[LightGBM] [Warning] No further splits with positive gain, best gain: -inf\n",
            "[LightGBM] [Warning] No further splits with positive gain, best gain: -inf\n",
            "[LightGBM] [Warning] No further splits with positive gain, best gain: -inf\n",
            "[LightGBM] [Warning] No further splits with positive gain, best gain: -inf\n",
            "[LightGBM] [Warning] No further splits with positive gain, best gain: -inf\n",
            "[LightGBM] [Warning] No further splits with positive gain, best gain: -inf\n",
            "[LightGBM] [Warning] No further splits with positive gain, best gain: -inf\n",
            "[LightGBM] [Warning] No further splits with positive gain, best gain: -inf\n",
            "[LightGBM] [Warning] No further splits with positive gain, best gain: -inf\n",
            "[LightGBM] [Warning] No further splits with positive gain, best gain: -inf\n",
            "[LightGBM] [Warning] No further splits with positive gain, best gain: -inf\n",
            "[LightGBM] [Warning] No further splits with positive gain, best gain: -inf\n",
            "[LightGBM] [Warning] No further splits with positive gain, best gain: -inf\n",
            "[LightGBM] [Warning] No further splits with positive gain, best gain: -inf\n",
            "[LightGBM] [Warning] No further splits with positive gain, best gain: -inf\n",
            "[LightGBM] [Warning] No further splits with positive gain, best gain: -inf\n",
            "[LightGBM] [Warning] No further splits with positive gain, best gain: -inf\n",
            "[LightGBM] [Warning] No further splits with positive gain, best gain: -inf\n",
            "[LightGBM] [Warning] No further splits with positive gain, best gain: -inf\n",
            "[LightGBM] [Warning] No further splits with positive gain, best gain: -inf\n",
            "[LightGBM] [Warning] No further splits with positive gain, best gain: -inf\n",
            "[LightGBM] [Warning] No further splits with positive gain, best gain: -inf\n",
            "[LightGBM] [Warning] No further splits with positive gain, best gain: -inf\n",
            "[LightGBM] [Warning] No further splits with positive gain, best gain: -inf\n",
            "[LightGBM] [Warning] No further splits with positive gain, best gain: -inf\n",
            "[LightGBM] [Warning] No further splits with positive gain, best gain: -inf\n",
            "[LightGBM] [Warning] No further splits with positive gain, best gain: -inf\n",
            "[LightGBM] [Warning] No further splits with positive gain, best gain: -inf\n",
            "[LightGBM] [Warning] No further splits with positive gain, best gain: -inf\n",
            "[LightGBM] [Warning] No further splits with positive gain, best gain: -inf\n",
            "[LightGBM] [Warning] No further splits with positive gain, best gain: -inf\n",
            "[LightGBM] [Warning] No further splits with positive gain, best gain: -inf\n",
            "[LightGBM] [Warning] No further splits with positive gain, best gain: -inf\n",
            "[LightGBM] [Warning] No further splits with positive gain, best gain: -inf\n",
            "[LightGBM] [Warning] No further splits with positive gain, best gain: -inf\n",
            "[LightGBM] [Warning] No further splits with positive gain, best gain: -inf\n",
            "[LightGBM] [Warning] No further splits with positive gain, best gain: -inf\n",
            "[LightGBM] [Warning] No further splits with positive gain, best gain: -inf\n",
            "[LightGBM] [Warning] No further splits with positive gain, best gain: -inf\n",
            "[LightGBM] [Warning] No further splits with positive gain, best gain: -inf\n",
            "[LightGBM] [Warning] No further splits with positive gain, best gain: -inf\n",
            "[LightGBM] [Warning] No further splits with positive gain, best gain: -inf\n",
            "[LightGBM] [Warning] No further splits with positive gain, best gain: -inf\n",
            "[LightGBM] [Warning] No further splits with positive gain, best gain: -inf\n"
          ]
        }
      ],
      "source": [
        "from lightgbm import LGBMClassifier as lgb\n",
        "model_lgb = lgb()\n",
        "model_lgb.fit(train_post,train_target)\n",
        "pred_lgb=model_lgb.predict(test_post)"
      ]
    },
    {
      "cell_type": "code",
      "execution_count": null,
      "metadata": {
        "id": "0ASOCGMux5Vd"
      },
      "outputs": [],
      "source": [
        "pred_training_lgb=model_lgb.predict(train_post)"
      ]
    },
    {
      "cell_type": "code",
      "execution_count": null,
      "metadata": {
        "colab": {
          "base_uri": "https://localhost:8080/"
        },
        "id": "KzNcvKoDx5Ve",
        "outputId": "135dbf34-1944-42f7-9a3b-ab646666fb69"
      },
      "outputs": [
        {
          "name": "stdout",
          "output_type": "stream",
          "text": [
            "The train accuracy score for model trained on LightGBM Classifier is: 1.0\n"
          ]
        }
      ],
      "source": [
        "print(\"The train accuracy score for model trained on LightGBM Classifier is:\",accuracy_score(train_target,pred_training_lgb))"
      ]
    },
    {
      "cell_type": "code",
      "execution_count": null,
      "metadata": {
        "colab": {
          "base_uri": "https://localhost:8080/"
        },
        "id": "CKLHXOZWvNTp",
        "outputId": "45361df3-d5d1-4e23-908f-16061b85f75a"
      },
      "outputs": [
        {
          "name": "stdout",
          "output_type": "stream",
          "text": [
            "The test accuracy score for model trained on LightGBM classifier is: 0.6737752161383286\n"
          ]
        }
      ],
      "source": [
        "print(\"The test accuracy score for model trained on LightGBM classifier is:\",accuracy_score(test_target,pred_lgb))"
      ]
    },
    {
      "cell_type": "code",
      "execution_count": null,
      "metadata": {
        "colab": {
          "base_uri": "https://localhost:8080/"
        },
        "id": "7RNdIXWapt8F",
        "outputId": "5dc6cbca-8167-4d57-833f-36ab1ddd2a28"
      },
      "outputs": [
        {
          "name": "stdout",
          "output_type": "stream",
          "text": [
            "Test classification report of LightGBM Classifier\n",
            "               precision    recall  f1-score   support\n",
            "\n",
            "        ENFJ       0.70      0.42      0.52        38\n",
            "        ENFP       0.71      0.64      0.67       135\n",
            "        ENTJ       0.71      0.33      0.45        46\n",
            "        ENTP       0.62      0.61      0.62       137\n",
            "        ESFJ       0.00      0.00      0.00         9\n",
            "        ESFP       0.00      0.00      0.00        10\n",
            "        ESTJ       0.00      0.00      0.00         8\n",
            "        ESTP       0.50      0.22      0.31        18\n",
            "        INFJ       0.69      0.75      0.72       294\n",
            "        INFP       0.65      0.81      0.72       366\n",
            "        INTJ       0.68      0.66      0.67       218\n",
            "        INTP       0.67      0.78      0.72       261\n",
            "        ISFJ       0.76      0.48      0.59        33\n",
            "        ISFP       0.78      0.46      0.58        54\n",
            "        ISTJ       0.75      0.44      0.55        41\n",
            "        ISTP       0.69      0.57      0.62        67\n",
            "\n",
            "    accuracy                           0.67      1735\n",
            "   macro avg       0.56      0.45      0.48      1735\n",
            "weighted avg       0.67      0.67      0.66      1735\n",
            "\n"
          ]
        },
        {
          "name": "stderr",
          "output_type": "stream",
          "text": [
            "/home/rayaankhan2003/.local/lib/python3.10/site-packages/sklearn/metrics/_classification.py:1469: UndefinedMetricWarning: Precision and F-score are ill-defined and being set to 0.0 in labels with no predicted samples. Use `zero_division` parameter to control this behavior.\n",
            "  _warn_prf(average, modifier, msg_start, len(result))\n",
            "/home/rayaankhan2003/.local/lib/python3.10/site-packages/sklearn/metrics/_classification.py:1469: UndefinedMetricWarning: Precision and F-score are ill-defined and being set to 0.0 in labels with no predicted samples. Use `zero_division` parameter to control this behavior.\n",
            "  _warn_prf(average, modifier, msg_start, len(result))\n",
            "/home/rayaankhan2003/.local/lib/python3.10/site-packages/sklearn/metrics/_classification.py:1469: UndefinedMetricWarning: Precision and F-score are ill-defined and being set to 0.0 in labels with no predicted samples. Use `zero_division` parameter to control this behavior.\n",
            "  _warn_prf(average, modifier, msg_start, len(result))\n"
          ]
        }
      ],
      "source": [
        "from sklearn.metrics import classification_report\n",
        "personality_types=target_encoder.inverse_transform([i for i in range(16)])\n",
        "print('Test classification report of LightGBM Classifier\\n',classification_report(test_target,model_lgb.predict(test_post),target_names=personality_types))"
      ]
    },
    {
      "cell_type": "markdown",
      "metadata": {
        "id": "hPUwQigxGGtS"
      },
      "source": [
        "###Support Vector Classifier"
      ]
    },
    {
      "cell_type": "code",
      "execution_count": null,
      "metadata": {
        "id": "ZFcz2kPN7whx"
      },
      "outputs": [],
      "source": [
        "from sklearn.svm import SVC"
      ]
    },
    {
      "cell_type": "code",
      "execution_count": null,
      "metadata": {
        "id": "zG65CdgD7xLN"
      },
      "outputs": [],
      "source": [
        "model_svc=SVC()\n",
        "model_svc.fit(train_post,train_target)\n",
        "pred_svc=model_svc.predict(test_post)"
      ]
    },
    {
      "cell_type": "code",
      "execution_count": null,
      "metadata": {
        "id": "cBRdO5gn74YK"
      },
      "outputs": [],
      "source": [
        "pred_training_svc=model_svc.predict(train_post)"
      ]
    },
    {
      "cell_type": "code",
      "execution_count": null,
      "metadata": {
        "colab": {
          "base_uri": "https://localhost:8080/"
        },
        "id": "yTTrrpjF74YL",
        "outputId": "5351f014-c1f2-4be3-ace5-f8ced22cb9b5"
      },
      "outputs": [
        {
          "name": "stdout",
          "output_type": "stream",
          "text": [
            "The train accuracy score for model trained on Support Classifier is: 0.950864553314121\n"
          ]
        }
      ],
      "source": [
        "print(\"The train accuracy score for model trained on Support Classifier is:\",accuracy_score(train_target,pred_training_svc))"
      ]
    },
    {
      "cell_type": "code",
      "execution_count": null,
      "metadata": {
        "colab": {
          "base_uri": "https://localhost:8080/"
        },
        "id": "XvftYo8574YM",
        "outputId": "5feb36d5-e2a8-4782-8e7c-79ad8ba68119"
      },
      "outputs": [
        {
          "name": "stdout",
          "output_type": "stream",
          "text": [
            "The test accuracy score for model trained on Support Vector classifier is: 0.6530259365994237\n"
          ]
        }
      ],
      "source": [
        "print(\"The test accuracy score for model trained on Support Vector classifier is:\",accuracy_score(test_target,pred_svc))"
      ]
    },
    {
      "cell_type": "code",
      "execution_count": null,
      "metadata": {
        "colab": {
          "base_uri": "https://localhost:8080/"
        },
        "id": "SPV87PgesmPj",
        "outputId": "704ce0e2-f5a1-4e52-a893-980a19f432a9"
      },
      "outputs": [
        {
          "name": "stdout",
          "output_type": "stream",
          "text": [
            "Test classification report of Support Vector Machine\n",
            "               precision    recall  f1-score   support\n",
            "\n",
            "        ENFJ       0.67      0.26      0.38        38\n",
            "        ENFP       0.77      0.59      0.66       135\n",
            "        ENTJ       0.76      0.28      0.41        46\n",
            "        ENTP       0.68      0.52      0.59       137\n",
            "        ESFJ       0.33      0.11      0.17         9\n",
            "        ESFP       0.00      0.00      0.00        10\n",
            "        ESTJ       0.00      0.00      0.00         8\n",
            "        ESTP       0.83      0.28      0.42        18\n",
            "        INFJ       0.67      0.69      0.68       294\n",
            "        INFP       0.60      0.86      0.70       366\n",
            "        INTJ       0.65      0.64      0.64       218\n",
            "        INTP       0.65      0.83      0.73       261\n",
            "        ISFJ       0.83      0.30      0.44        33\n",
            "        ISFP       0.78      0.33      0.47        54\n",
            "        ISTJ       0.75      0.29      0.42        41\n",
            "        ISTP       0.76      0.57      0.65        67\n",
            "\n",
            "    accuracy                           0.65      1735\n",
            "   macro avg       0.61      0.41      0.46      1735\n",
            "weighted avg       0.66      0.65      0.63      1735\n",
            "\n"
          ]
        },
        {
          "name": "stderr",
          "output_type": "stream",
          "text": [
            "/home/rayaankhan2003/.local/lib/python3.10/site-packages/sklearn/metrics/_classification.py:1469: UndefinedMetricWarning: Precision and F-score are ill-defined and being set to 0.0 in labels with no predicted samples. Use `zero_division` parameter to control this behavior.\n",
            "  _warn_prf(average, modifier, msg_start, len(result))\n",
            "/home/rayaankhan2003/.local/lib/python3.10/site-packages/sklearn/metrics/_classification.py:1469: UndefinedMetricWarning: Precision and F-score are ill-defined and being set to 0.0 in labels with no predicted samples. Use `zero_division` parameter to control this behavior.\n",
            "  _warn_prf(average, modifier, msg_start, len(result))\n",
            "/home/rayaankhan2003/.local/lib/python3.10/site-packages/sklearn/metrics/_classification.py:1469: UndefinedMetricWarning: Precision and F-score are ill-defined and being set to 0.0 in labels with no predicted samples. Use `zero_division` parameter to control this behavior.\n",
            "  _warn_prf(average, modifier, msg_start, len(result))\n"
          ]
        }
      ],
      "source": [
        "from sklearn.metrics import classification_report\n",
        "personality_types=target_encoder.inverse_transform([i for i in range(16)])\n",
        "print('Test classification report of Support Vector Machine\\n',classification_report(test_target,model_svc.predict(test_post),target_names=personality_types))"
      ]
    },
    {
      "cell_type": "markdown",
      "metadata": {
        "id": "ZmN8ZCOcGLIf"
      },
      "source": [
        "###Logistic Regression"
      ]
    },
    {
      "cell_type": "code",
      "execution_count": null,
      "metadata": {
        "id": "eV-d0P8x9sUG"
      },
      "outputs": [],
      "source": [
        "from sklearn.linear_model import LogisticRegression"
      ]
    },
    {
      "cell_type": "code",
      "execution_count": null,
      "metadata": {
        "colab": {
          "base_uri": "https://localhost:8080/"
        },
        "id": "pAaupogw9xeW",
        "outputId": "3bdf277f-c4ea-4f96-962d-bed028b24657"
      },
      "outputs": [
        {
          "name": "stderr",
          "output_type": "stream",
          "text": [
            "/home/rayaankhan2003/.local/lib/python3.10/site-packages/sklearn/linear_model/_logistic.py:460: ConvergenceWarning: lbfgs failed to converge (status=1):\n",
            "STOP: TOTAL NO. of ITERATIONS REACHED LIMIT.\n",
            "\n",
            "Increase the number of iterations (max_iter) or scale the data as shown in:\n",
            "    https://scikit-learn.org/stable/modules/preprocessing.html\n",
            "Please also refer to the documentation for alternative solver options:\n",
            "    https://scikit-learn.org/stable/modules/linear_model.html#logistic-regression\n",
            "  n_iter_i = _check_optimize_result(\n"
          ]
        }
      ],
      "source": [
        "model_lr=LogisticRegression()\n",
        "model_lr.fit(train_post,train_target)\n",
        "pred_lr=model_lr.predict(test_post)"
      ]
    },
    {
      "cell_type": "code",
      "execution_count": null,
      "metadata": {
        "id": "r7V_ZIHd9xeW"
      },
      "outputs": [],
      "source": [
        "pred_training_lr=model_lr.predict(train_post)"
      ]
    },
    {
      "cell_type": "code",
      "execution_count": null,
      "metadata": {
        "colab": {
          "base_uri": "https://localhost:8080/"
        },
        "id": "rRj2dj1Z9xeX",
        "outputId": "b6db9719-0dd7-4f63-d5be-e62f660055b2"
      },
      "outputs": [
        {
          "name": "stdout",
          "output_type": "stream",
          "text": [
            "The train accuracy score for model trained on Logistic Regression is: 0.7951008645533141\n"
          ]
        }
      ],
      "source": [
        "print(\"The train accuracy score for model trained on Logistic Regression is:\",accuracy_score(train_target,pred_training_lr))"
      ]
    },
    {
      "cell_type": "code",
      "execution_count": null,
      "metadata": {
        "colab": {
          "base_uri": "https://localhost:8080/"
        },
        "id": "T6O-PXZI9xeX",
        "outputId": "26a79357-5b4a-4526-89a9-e3359bbe131e"
      },
      "outputs": [
        {
          "name": "stdout",
          "output_type": "stream",
          "text": [
            "The test accuracy score for model trained on Logistic Regression is: 0.6495677233429394\n"
          ]
        }
      ],
      "source": [
        "print(\"The test accuracy score for model trained on Logistic Regression is:\",accuracy_score(test_target,pred_lr))"
      ]
    },
    {
      "cell_type": "code",
      "execution_count": null,
      "metadata": {
        "colab": {
          "base_uri": "https://localhost:8080/"
        },
        "id": "Q_R8ZEIsp_rF",
        "outputId": "3d0fce58-f46e-4a3b-cd9c-6853f8e1770a"
      },
      "outputs": [
        {
          "name": "stdout",
          "output_type": "stream",
          "text": [
            "Test classification report of Logistic Regression\n",
            "               precision    recall  f1-score   support\n",
            "\n",
            "        ENFJ       0.64      0.18      0.29        38\n",
            "        ENFP       0.76      0.59      0.67       135\n",
            "        ENTJ       0.60      0.26      0.36        46\n",
            "        ENTP       0.66      0.53      0.59       137\n",
            "        ESFJ       1.00      0.11      0.20         9\n",
            "        ESFP       0.00      0.00      0.00        10\n",
            "        ESTJ       0.00      0.00      0.00         8\n",
            "        ESTP       1.00      0.11      0.20        18\n",
            "        INFJ       0.65      0.71      0.68       294\n",
            "        INFP       0.60      0.86      0.71       366\n",
            "        INTJ       0.62      0.67      0.64       218\n",
            "        INTP       0.69      0.84      0.75       261\n",
            "        ISFJ       0.67      0.18      0.29        33\n",
            "        ISFP       0.80      0.30      0.43        54\n",
            "        ISTJ       0.75      0.22      0.34        41\n",
            "        ISTP       0.69      0.52      0.59        67\n",
            "\n",
            "    accuracy                           0.65      1735\n",
            "   macro avg       0.63      0.38      0.42      1735\n",
            "weighted avg       0.66      0.65      0.63      1735\n",
            "\n"
          ]
        },
        {
          "name": "stderr",
          "output_type": "stream",
          "text": [
            "/home/rayaankhan2003/.local/lib/python3.10/site-packages/sklearn/metrics/_classification.py:1469: UndefinedMetricWarning: Precision and F-score are ill-defined and being set to 0.0 in labels with no predicted samples. Use `zero_division` parameter to control this behavior.\n",
            "  _warn_prf(average, modifier, msg_start, len(result))\n",
            "/home/rayaankhan2003/.local/lib/python3.10/site-packages/sklearn/metrics/_classification.py:1469: UndefinedMetricWarning: Precision and F-score are ill-defined and being set to 0.0 in labels with no predicted samples. Use `zero_division` parameter to control this behavior.\n",
            "  _warn_prf(average, modifier, msg_start, len(result))\n",
            "/home/rayaankhan2003/.local/lib/python3.10/site-packages/sklearn/metrics/_classification.py:1469: UndefinedMetricWarning: Precision and F-score are ill-defined and being set to 0.0 in labels with no predicted samples. Use `zero_division` parameter to control this behavior.\n",
            "  _warn_prf(average, modifier, msg_start, len(result))\n"
          ]
        }
      ],
      "source": [
        "from sklearn.metrics import classification_report\n",
        "personality_types=target_encoder.inverse_transform([i for i in range(16)])\n",
        "print('Test classification report of Logistic Regression\\n',classification_report(test_target,model_lr.predict(test_post),target_names=personality_types))"
      ]
    },
    {
      "cell_type": "markdown",
      "metadata": {
        "id": "0pjift9Rvj2S"
      },
      "source": [
        "###Results"
      ]
    },
    {
      "cell_type": "code",
      "execution_count": null,
      "metadata": {
        "id": "0T1ZAqbRuxIo"
      },
      "outputs": [
        {
          "ename": "NameError",
          "evalue": "name 'pd' is not defined",
          "output_type": "error",
          "traceback": [
            "\u001b[0;31m---------------------------------------------------------------------------\u001b[0m",
            "\u001b[0;31mNameError\u001b[0m                                 Traceback (most recent call last)",
            "\u001b[1;32m/home/rayaankhan2003/MBTI-Personality-Prediction-using-Machine-Learning-main/MBTI_personality_prediction_model.ipynb Cell 74\u001b[0m line \u001b[0;36m1\n\u001b[0;32m----> <a href='vscode-notebook-cell://wsl%2Bubuntu/home/rayaankhan2003/MBTI-Personality-Prediction-using-Machine-Learning-main/MBTI_personality_prediction_model.ipynb#Y133sdnNjb2RlLXJlbW90ZQ%3D%3D?line=0'>1</a>\u001b[0m result_df\u001b[39m=\u001b[39mpd\u001b[39m.\u001b[39mDataFrame({\u001b[39m'\u001b[39m\u001b[39mModel\u001b[39m\u001b[39m'\u001b[39m:[\u001b[39m\"\u001b[39m\u001b[39mGaussian NB\u001b[39m\u001b[39m\"\u001b[39m,\u001b[39m\"\u001b[39m\u001b[39mMultinomial NB\u001b[39m\u001b[39m\"\u001b[39m,\u001b[39m\"\u001b[39m\u001b[39mRandom Forest\u001b[39m\u001b[39m\"\u001b[39m,\u001b[39m\"\u001b[39m\u001b[39mXGBoost\u001b[39m\u001b[39m\"\u001b[39m,\u001b[39m\"\u001b[39m\u001b[39mLightGBM\u001b[39m\u001b[39m\"\u001b[39m,\u001b[39m\"\u001b[39m\u001b[39mSVM\u001b[39m\u001b[39m\"\u001b[39m,\u001b[39m\"\u001b[39m\u001b[39mLogistic Regresssion\u001b[39m\u001b[39m\"\u001b[39m],\n\u001b[1;32m      <a href='vscode-notebook-cell://wsl%2Bubuntu/home/rayaankhan2003/MBTI-Personality-Prediction-using-Machine-Learning-main/MBTI_personality_prediction_model.ipynb#Y133sdnNjb2RlLXJlbW90ZQ%3D%3D?line=1'>2</a>\u001b[0m                         \u001b[39m'\u001b[39m\u001b[39mAccuracy\u001b[39m\u001b[39m'\u001b[39m:[accuracy_score(test_target,pred_gnb),accuracy_score(test_target,pred_mnb),accuracy_score(test_target,pred_rfc),accuracy_score(test_target,pred_xgb),accuracy_score(test_target,pred_lgb),accuracy_score(test_target,pred_svc),accuracy_score(test_target,pred_lr)]})\n",
            "\u001b[0;31mNameError\u001b[0m: name 'pd' is not defined"
          ]
        }
      ],
      "source": [
        "result_df=pd.DataFrame({'Model':[\"Gaussian NB\",\"Multinomial NB\",\"Random Forest\",\"XGBoost\",\"LightGBM\",\"SVM\",\"Logistic Regresssion\"],\n",
        "                        'Accuracy':[accuracy_score(test_target,pred_gnb),accuracy_score(test_target,pred_mnb),accuracy_score(test_target,pred_rfc),accuracy_score(test_target,pred_xgb),accuracy_score(test_target,pred_lgb),accuracy_score(test_target,pred_svc),accuracy_score(test_target,pred_lr)]})"
      ]
    },
    {
      "cell_type": "code",
      "execution_count": null,
      "metadata": {
        "colab": {
          "base_uri": "https://localhost:8080/"
        },
        "id": "N-k3zwoxwcSK",
        "outputId": "d141bb3a-078b-471a-c5aa-14e55cf8545c"
      },
      "outputs": [
        {
          "name": "stdout",
          "output_type": "stream",
          "text": [
            "                  Model  Accuracy\n",
            "0           Gaussian NB  0.263977\n",
            "1        Multinomial NB  0.380403\n",
            "2         Random Forest  0.556772\n",
            "6  Logistic Regresssion  0.649568\n",
            "5                   SVM  0.653026\n",
            "3               XGBoost  0.671470\n",
            "4              LightGBM  0.673775\n"
          ]
        }
      ],
      "source": [
        "print(result_df.sort_values(by = 'Accuracy'))"
      ]
    },
    {
      "cell_type": "code",
      "execution_count": null,
      "metadata": {},
      "outputs": [
        {
          "name": "stdout",
          "output_type": "stream",
          "text": [
            "['still my favorite explanation of the scientific method.ph.d. admissions at iiit hyderabad are open for winter 2023. the ph.d. program provides access to our vibrant research curriculum in the core areas of cse and ece. details at https://pgadmissions.iiit.ac.in/pg_wree/i just pushed my color-coded latex table script to github: https://github.com/jonbarron/tabilize/blob/main/tabilize.ipynb… every table i\\'ve made since grad school has been procedurally generated. i *highly* recommend doing this --- if you copy-paste and manually-bold numbers, you will eventually make a costly mistake.suggested language for the paper in a hyped field: \"last year we shifted the paradigm three times [ref 1-3], while others reported only incremental paradigm shifts. in this work, we present a much larger, disruptive paradigm shift, or, if you wish, a paradigm giant leap. ... this…senior academics exclusively citing other senior academicspeak bangalore!when it\\'s your turn to do lab meeting and you don\\'t have resultswhen you give up and change the manuscript\\'s title to the boring title that the reviewer insisted ondid you know that the current vindhya block on iiith campus was previously known as the corporate school building? not only did it once house six schools set up by top industry players but it has spawned other acclaimed institutions. https://blogs.iiit.ac.in/corporate-schools/… #iiithturns25congratulations prof. madhava krishna on being elected as a fellow of the indian national academy of engineering (inae) @indianinae #iiithfacultyanother milestone for @isro ! india\\'s maiden solar mission, aditya-l1 successfully launched from sriharikota #adityal1 #adityal1launch @isroi will be giving a talk on generative models for scalable text-conditioned human action generation at samsung research india today! #research #generativeai @iiit_hyderabad @samsungresearchgreat news to share with you this morning!this is the difference in confidence. a couple of decades ago, rinku would have felt embarrassed. not anymore. i don\\'t know this language so i will speak in mine, and my captain can translate. :)ai professor submitting the lab’s n paperschandrayaan-3 mission: the image captured by the landing imager camera after the landing. it shows a portion of chandrayaan-3\\'s landing site. seen also is a leg and its accompanying shadow. chandrayaan-3 chose a relatively flat region on the lunar surface …i\\'ve learned from a facebook post of anil bera that c. r. rao, of all these results, passed away this evening, august 22, 2023.seamformer, our state-of-the-art approach for high precision line segmentation in challenging handwritten documents will be presented at @icdar2023 - tuesday (aug 22, 2.30p-4pm). code + pre-trained models: https://github.com/ihdia/seamformer… project page: https://ihdia.iiit.ac.in/seamformer/@suhasm @egangotri @nmanuscripts @ganti_dr @iks_mediawho can relate to it?thanks to a complex mathematical algorithm, these plastic shapes follow a very specific route as they roll. in fact, researchers have shown that a shape can be designed to follow almost any path you can think of.introducing #openscene, the largest 3d occupancy prediction benchmark in autonomous driving, with more than 120 hours of data, covering scenes in four cities: las vegas, boston, pittsburgh, and singapore. @opendrivelabtirtha -- an automated platform to crowdsource images and create 3d models of heritage sites jyotirmaya shivottam, subhankar mishra tl;dr: web platform->crowdsourcing images of ch sites->sfm+mvs->3d models https://tirtha.niser.ac.in https://arxiv.org/pdf/2308.01246.pdf…they didn\\'t waste any time ...bram moolenaar has passed away. a message from his family: https://groups.google.com/g/vim_announce/c/twahca9zkt4… bram dedicated a huge portion of his life to building an open source tool for the benefit of the programming community. he gave away all donations to the vim project to charity. he will be missed.when your first paper gets demolished but you keep submittingalways remember, if brute force doesn\\'t work, you\\'re not using enough brute force.why edge detection doesn’t explain line drawing “if human vision was just edge detection, then we would have already figured out how vision works a long time ago.” an excellent paper and blog post by @aaronhertzmann from 2021: https://arxiv.org/abs/2101.09376anyloc: towards universal visual place recognition nikhil keetha, avneesh mishra, jay karhade, krishna murthy jatavallabhula, sebastian scherer, madhava krishna, sourav garg tl;dr: foundation model features+unsupervised feature aggregation https://arxiv.org/pdf/2308.00688.pdf…excited to share our #icml2023 work on the feature sieve, by which we automatically identify and suppress irrelevant or spurious features in deep networks, hence mitigating simplicity bias. paper: https://openreview.net/pdf?id=dntvbs6zbz…chandrayaan-3 mission: chandrayaan-3 completes its orbits around the earth and heads towards the moon. a successful perigee-firing performed at istrac, isro has injected the spacecraft into the translunar orbit. next stop: the moon as it arrives at the moon, the…found a kindred spirit at #icml2023 #feelthelearn“the day i got my postgraduate degree, i didn’t waste a minute– i rushed back to my village, ausgrum in bengal to become a teacher. yes, i had higher salary offers from schools in bigger towns, but for me, the 169 rs. i was offered at my school village meant everything; i was…time to outline your project scope. #3dv2024another excellent example that data >>> model, this time from neuroscience. two models trained on the same data will have similar behavior despite architectural differences (if enough data), even if those are between biological and artificial neural nets.1/ excited to share a new neuroai preprint: “what can 1.8 billion regressions tell us about the pressures shaping high-level visual representation in brains and machines?” led by colin conwell, with @_jacobprince_ , @cvnlab , and @grez72 .d-snecontinuing the story of unmatched performance of original superpoint and superglue: they show that careful training with synthetic data and tuning the training itself means much more than “architectural advancements“.os internals books are wild...every time this hellsite does something stupid y\\'all change your usernames and declare you\\'re done but you\\'re still posting here a week later and there\\'s still nobody posting there so maybe try any other response.remote poster presentations at @cvpr . the author (probably a student that put a huge effort into this paper) is on zoom at home, interacting via mobile phone with attendees. shame on canada and immigration rules. #cvpr2023this is so academic twitterjoin us in commemorating 25 years of iiit hyderabad\\'s incredible journey, where innovation, talent, and global impact converge. let\\'s celebrate this remarkable milestone together! #iiith #25years #iiithturns25 #iiithyderabadophthalmologists hearing tech companies want people to spend all day on screens inches from their eyesthe cvpr/iccv social media ban was well-intentioned but ineffective. well-known authors still have their unpublished work promoted by influencers, but authors can\\'t discuss their own work for months. this is absurd. we hope to change this. please vote if you are attending cvpr!my little cousin arjun got caught using chatgpt on his 7th grade english homework.hurry up! registrations for the challenge are closing soon. great opportunities for students this summer. top teams will be invited to ncvpripg\\'23. #ncvpripg23 #summer #iitj #btech #iit #nit #bits #bit @iitjodhpur @anandmishra2012 @cseiitj1#ncvpripg23 opportunities for students/ai/ml enthusiasts! best way to utilize summer 2023!two-wheeler safety technology has not kept pace with the strides made in the 4-wheeler segment. here’s the first attempt to bridge the gap.https://events.iitj.ac.in/ncvpripg2023/ #ncvpripg23 #iitjodhpur #vision #india #imageprocessing #graphics #patternrecognition #machinelearning #deeplearning#projectiraste #irastetelangana: driver training series testimonial from a tsrtc driver on how #adas & #dms devices are contributing (\"an extra pair of eyes\" for a better driving experience. @ctmtsrtc @intelindia @iiit_hyderabad @ihub_data @kishramisettyadmissions are now open to iiith’s phd programmes! details at https://pgadmissions.iiit.ac.in/pgee/ application deadline 10 april 2023. #iiithturns25 #iiith #iiithyderabad #phdatiiith #pgeesaturday 25 march, 4pm: undergraduate entrance exam (ugee) mode of admission to iiith’s dual degree programmes register at https://bit.ly/3jondd9 sunday 26 march, 4pm: lateral entry (leee) mode of admission to iiith’s dual degree programmes register at https://bit.ly/40djcglbest wishes for a happy and prosperous ugadi! #iiithturns25#projectiraste : driver training news week 3rd edition of iraste #drivertraining program successfully concluded in nagpur, here are the highlights. #roadsafety #adas #driverskilling @nitin_gadkari @rnivruti @ngpnmc @csircrri @intelindia @mahindrarise @iiit_hyderabad @ihub_datagpt-4 paper : https://cdn.openai.com/papers/gpt-4.pdf… let me save you the trouble:lights , camera , action , gpt ! - our work on leveraging 𝐋𝐚𝐫𝐠𝐞-𝐬𝐜𝐚𝐥𝐞 𝐋𝐚𝐧𝐠𝐮𝐚𝐠𝐞 𝐌𝐨𝐝𝐞𝐥𝐬 𝐟𝐨𝐫 𝐆𝐞𝐧𝐞𝐫𝐚𝐥𝐢𝐳𝐞𝐝 𝐀𝐜𝐭𝐢𝐨𝐧 𝐆𝐞𝐧𝐞𝐫𝐚𝐭𝐢𝐨𝐧 will be presented at icme 2023. webpage: https://actiongpt.github.iowe hope our work serves as a good baseline for llm-based action generation. @michael_j_black @gulvarol @guytvt @danielcohenor1 @iiit_hyderabad @kcisatiiiththis work is due to the efforts of @maheshwarishub9 and @sai_shashank25applications are now open to iiith’s http://b.tech programmes through the spec mode, a special channel of admission for identifying talented students with challenging circumstances. details at https://ugadmissions.iiit.ac.in/spec2023/applications are now open to iiith’s http://b.tech programmes through the spec mode, a special channel of admission for identifying talented students with challenging circumstances. details at https://ugadmissions.iiit.ac.in/spec2023/ application deadline 31 march 2023admissions are now open to iiith’s dual degree programmes. iiith values diversity among its student population and strives to increase the same. we encourage women students to apply. details at https://ugadmissions.iiit.ac.in/ugee2023/ https://youtu.be/tctbvp7tx-cwe are ready for the 2nd wikimedia technology summit! it\\'s time to explore cutting-edge tools, ongoing research, and thought-provoking discussions about topics like the open knowledge, digitization of information, and more. https://indicwiki.iiit.ac.in/summit-2023/ #wikitechsummit #iiithlateral entry mode of admission to iiith’s dual degree programs are now open. details at https://ugadmissions.iiit.ac.in/leee/ application deadline 31 march 2023. #iiithturns25 #iiith #iiithyderabad #lateralentry #dualdegree #leeeproud to host 2nd wikimedia technology summit, 2-4 march 2023 at @iiit_hyderabad in collaboration with @wikimedia deep conversations and insights are expected - great set of speakers. for details, please see: https://indicwiki.iiit.ac.in/summit-2023/textafter trying out many different podcasts, i found that the activity that makes the commute most enjoyable is calling my parents.when #technology #infrastructure #automotive #government #academia come together to address #accident avoidance, success is bound to happen. can’t wait to fulfill the dream #india has on “vision 0”, no deaths due to traffic accidents! we @intelindia are committed w our partners!super thrilled to share that dr. pritish mohapatra #iiith #phd #classof2021 received the honourable mention for @indiaacm 2022 doctoral dissertation award. thesis title: optimization for and by machine learning. #iiithstudentsrock #pgchairgiri #profgiri /c @iiit_hyderabadafter an r&r, editor sent a paper out to a new 4th reviewer. they said: \"i don\\'t believe it is appropriate to expect authors to have to address new sets of concerns after they deal with an initial set ... this paper is ready for publication.\" there is still good in this world!rebuttal translator \"we thank the reviewers for their insightful feedback.\" \"nah, only to the ones who gave us weak accept.\"enjoyed giving the talk. nice questions post talk and great atmosphere - always a pleasure to be at @iiscbangalore . thanks for having me there @bcl2023 .\"aristotle is said to have famously remarked ‘the whole is greater than the sum of the parts’.\" join us for ravi kiran sarvadevabhatla\\'s talk at bcl 2023.a good tl;dr summary of our ongoing work on zero-shot human action generation using gpt (what else ) . more details soon ...i will be giving an inaugural day talk on \\'deep neural networks for part-based object and scene representations\\' at brain computation and learning workshop 2023 ( @bcl2023 ) at @iiscbangalore . time to invoke archimedes and ask if the whole is still greater than sum of its partsturning the review process into a discussion of my completely irrelevant work (world cup edition)student-speaker interaction at #indoml2022 #indoml #iitgn @cse_iitgn @iitgnrejecting industry and staying in academia https://twitter.com/i/status/1600932086663503873/video/1…writing reference letters at 5am and almost made a serious typo: \"it is my great pressure to recommend ... to your graduate program.\"reminder about panel discussion on intelligent technologies and systems for palm leaf manuscripts at 5.00pm today - youtube: https://tinyurl.com/22ipalmyt . join on zoom: https://tinyurl.com/22ipalmz if you wish to ask questions. @nmanuscripts @ignca_delhi @gopalee67 @profprmukundvery excited to be moderating a panel discussion on \\'intelligent technologies and systems for palm leaf manuscript understanding\\' on dec 5, 5p at @isbedu zoom: https://tinyurl.com/22ipalmz . kindly join if interested and share. @egangotri @nmanuscripts @ignca_delhi @iiit_hyderabad@bhandarkari@gopalee67#curiosity what are some examples of neurips/icml papers whose ideas have generalized to large datasets beyond cifar, caltech256, mnist and similar? #neurips2022 #neurips22it was a sunrise in midnight, when isro launched gslvmk3 rocket from sriharikota which carried 36 broadband satellites in one rocket.there seems to be an increasing use of the justification for a paper being \"little is known\". here is the appearance of this phrase in pubmed. it looks like we know less as time progresses. little is known about why this trend has developed.prof anil jain has been involved with iiit-h for many years, also as a vajra adjunct professors. he was in a q&a session with the faculty on saturday .... (photo credit: @ponguru )iiith researchers create a web-based interface that not only helps you play the classic game of pictionary but also comes with an ai-based automated moderator. a closer look at the novel solution reveals that it’s more than just about drawing and guessing.article covering our acm multimedia \\'22 ( @acmmm2022 ) paper. we introduce a system for detecting atypical whiteboard content in a pictionary game setting. we also introduce a first of its kind dataset for atypical hand-drawn sketches. project page: https://drawm0n.github.ioan engaging talk by @rohanchandra30 on the exciting topic of autonomous driving for dense, heterogeneous and unstructured environments. good turnout online and offline for a monday morning talk ! @iiit_hyderabad @kcisatiiitha @iiit_hyderabad blog article on recent work presented at @eccvconf -- automated assessment of outdoor structures for earthquake vulnerability.not something you get to experience on every university visit: my visit to tsukuba university coincides with the annual ceremony to console the soul of experimental animals. everyone lined up will place a flower and bow to honour the animals.admissions to iiith’s phd programmes in cse and ece are now open! details at https://pgadmissions.iiit.ac.in/pg_wree/lvm3 m2/oneweb india-1 mission is completed successfully. all the 36 satellites have been placed into intended orbits. @nsil_india @oneweba great lesson in doing your thing and singing your song. if your current audience doesn’t appreciate your music, stay true to your music and find a new audience!congratulations to kiruthika kannan (ms student working under the supervision of dr. @vikataravi ) for being awarded the acm-w scholarship for attending the acm multimedia – 2022 conference in lisbon, portugal. read more at https://blogs.iiit.ac.in/monthly_news/19591/… #kcis #research #iiithintroducing uvrsabi: drone-based visual remote sensing for automated building inspection. uvrsabi aids assessment of #earthquake risk for #buildings at scale. to be presented in spotlight of @eccv 2022 cvcie workshop. https://uvrsabi.github.iointroducing psumnet, a deep net for scalable & efficient action recognition. it outperforms competing methods which use 100%-400% more params. psumnet is an attractive choice for deployment on compute-restricted embedded and edge devices. https://skeleton.iiit.ac.in/psumnet @eccvconfquite possible, @nptelindia !pi and first author reading the reviewsjournal editor sends manuscript to potential reviewersthe existence of grad students implies the existence of div students and curl studentsinterim results from #irastenagpur, based on cas data, are encouraging with 48% drivers on average demonstrating improvement in safe driving behavior. details in blog: https://blogs.iiit.ac.in/driver-improvement/… #projectiraste @csircrri @ngpnmc @intelindia @mahindrarise @iiit_hyderabad @ihub_datathis is a project under inai and ihub-data of @iiit_hyderabad that impacts the society directlyinitial study by @inai_ai \\'s iraste - analysing the effects of collision avoidance devices installed on a fleet of buses in nagpur shows marked reduction in safety alerts received, fostering better driving practices. https://blogs.iiit.ac.in/driver-improvement/… #iiith #iiithturns25 #inai #intelthis is the most tech company-ish thing i\\'ve seen all daythe world bank is upset that bhutan\\'s old-growth forests are just standing there, doing nothing, when they could be turned into ikea furniture.after iit, he’ll go to iim.honest advertisements for positions in academyit’s impossible to please everyone. we spend so much time and effort, but people are going to disagree with you no matter what you do or what stance you take. don’t try to please everyone. in the end, the only thing that really matters is pleasing two reviewersevery grad school applicationml people punching air https://twitter.com/drizzyrich14/status/1567226478122700802…new logo for silver jubilee of @iiit_hyderabad . #iiithturns25we started the 25th year of @iiit_hyderabad , and have a new logo! isn\\'t it well engineered and beautiful? thanks to pratyay ( @spratyey ) and team for coming up with the fantastic design. the deep symbolism of the banyan tree and the saraswati yantra is really amazing to see!ponnurangam kumaraguru (pk)\\nponnurangam kumaraguru (pk)was 👌🏽👌🏽 super fun playing 🏐🏐 \\nhashtag\\n#volleyball today, as part of faculty and staff sports events 2023 on campus. 🙏🏽🙏🏽 to physical education centre for organising. stay tuned for more sports updates during the weekend!ponnurangam kumaraguru (pk)\\nponnurangam kumaraguru (pk).1connections 👥👥 in \\nhashtag\\n#hyderabad \\nhashtag\\n#endowus please welcome 🤝🤝 mehul mathur! m is \\nhashtag\\n#btech \\nhashtag\\n#classof2023 from \\nhashtag\\n#iiithyderabad; m plays the guitar. m\\'s work with us was on \\nhashtag\\n#socialmedia \\nhashtag\\n#covid19 \\nhashtag\\n*. m says \"[precog\\'s] connections with external collaborators (both research and industrial) give you this really cool feeling of working in some high-end international junction of research rather than just a computer science lab\" in his blog \"unforgettable lessons: my remarkable journey with precog\"if you are around, feel free to say 👋🏽👋🏽 hello / connect with m.\\n/c\\n\\n* finweb 2022ponnurangam kumaraguru (pk)\\nponnurangam kumaraguru (pk).2what: workshop on \\nhashtag\\n#responsible & \\nhashtag\\n#safe \\nhashtag\\n#ai \\nwhen: 1400hrs ist, 19th nov, 2023 \\nwhere: indian institute of technology, madras \\nmode: in-person\\nwho: anybody interested in the topic\\ntopics to be covered:\\nresponsible ai – 101\\nreadiness of ai models in the real world\\nchatgpt, bard, llama, huggingchat, and more\\nbias, transparency, interoperability, explainability\\nhands-on session\\nregister atponnurangam kumaraguru (pk)\\nponnurangam kumaraguru (pk).3🥳🎉 shivangi singhal --> dr. shivangi singhal!!!! congrats s! 🥳🎉 \\nhashtag\\n#phdstudent9 \\nfull thesis \"identify, inspect and intervene multimodal fake news\" document -\\nslides -\\nfull video of the defense -\\nco-advised with rajiv.\\n\\nshe joins the wonderful 👌🏽👌🏽 club of\\naditi,,,,, sawinder,,.\\nspecial celebrations for, 🥳🎉 s is r\\'s 1st phd student defending thesis 🥳🎉ponnurangam kumaraguru (pk)\\nponnurangam kumaraguru (pk).4connections 👥👥 in \\nhashtag\\n#saltlakecity \\nhashtag\\n#utah \\nhashtag\\n#goldmansachs, please welcome 🤝🤝 aakash aanegola! a is \\nhashtag\\n#btech \\nhashtag\\n#classof2023 from \\nhashtag\\n#iiith; a worked with us for three semesters, and his work was on \\nhashtag\\nfor unsupervised graph representation learning*. in his blog \"a precogger\\'s epilogue\" he says \"precog apart from the rest of the labs was its founding principle, “technology for social good” (in my eyes, this view may not be endorsed by anyone else)...\", read morea also regularly plays ⛹🏻⛹🏻 basketball, enjoys playing the 🎻🎻 violin and engages in every 🌻🌻 outdoor activity. if you are around, feel free to say 👋🏽👋🏽 hello / connect with t.\\n/c\\n\\n*cafin: centrality aware fairness inducing in-processing for unsupervised representation learning on graphs']\n",
            "                                                   0\n",
            "0  still my favorite explanation of the scientifi...\n"
          ]
        }
      ],
      "source": [
        "tests=pd.read_csv('tweets.csv')\n",
        "# tests=tests[0]\n",
        "tests['text'] = tests['text'].str.lower()       #converts text in posts to lowercase as it is preferred in nlp\n",
        "# print(tests)\n",
        "tests=np.array(tests)\n",
        "t=\"\"\n",
        "for tes in tests:\n",
        "    t+=tes\n",
        "\n",
        "tests=pd.read_csv('linkedin.csv')\n",
        "tests=tests.columns\n",
        "tests=np.array(tests)\n",
        "tests=pd.DataFrame(tests)\n",
        "tests[0] = tests[0].str.lower()\n",
        "tests=np.array(tests)\n",
        "for tes in tests:\n",
        "    t+=tes\n",
        "print(t)\n",
        "tests=pd.DataFrame(t)\n",
        "print(tests)\n"
      ]
    },
    {
      "cell_type": "code",
      "execution_count": null,
      "metadata": {},
      "outputs": [
        {
          "name": "stdout",
          "output_type": "stream",
          "text": [
            "[[0. 0. 0. ... 0. 0. 0.]]\n",
            "[8]\n",
            "8.0\n"
          ]
        }
      ],
      "source": [
        "\n",
        "for i in range(len(tests)):\n",
        "  post_temp=tests._get_value(i, 0)\n",
        "  pattern = re.compile(r'https?://[a-zA-Z0-9./-]*/[a-zA-Z0-9?=_.]*[_0-9.a-zA-Z/-]*')    #to match url links present in the post\n",
        "  post_temp= re.sub(pattern, ' ', post_temp)                                            #to replace that url link with space\n",
        "  tests._set_value(i, 0,post_temp)\n",
        "\n",
        "for i in range(len(tests)):\n",
        "  post_temp=tests._get_value(i, 0)\n",
        "  pattern = re.compile(r'[0-9]')                                    #to match numbers from 0 to 9\n",
        "  post_temp= re.sub(pattern, ' ', post_temp)                        #to replace them with space\n",
        "  pattern = re.compile('\\W+')                                       #to match alphanumeric characters\n",
        "  post_temp= re.sub(pattern, ' ', post_temp)                        #to replace them with space\n",
        "  pattern = re.compile(r'[_+]')\n",
        "  post_temp= re.sub(pattern, ' ', post_temp)\n",
        "  tests._set_value(i, 0,post_temp)\n",
        "\n",
        "for i in range(len(tests)):\n",
        "  post_temp=tests._get_value(i, 0)\n",
        "  pattern = re.compile('\\s+')                                     #to match multiple whitespaces\n",
        "  post_temp= re.sub(pattern, ' ', post_temp)                      #to replace them with single whitespace\n",
        "  tests._set_value(i, 0, post_temp)\n",
        "\n",
        "remove_words = stopwords.words(\"english\")\n",
        "for i in range(tests.shape[0]):\n",
        "  post_temp=tests._get_value(i, 0)\n",
        "  post_temp=\" \".join([w for w in post_temp.split(' ') if w not in remove_words])    #to remove stopwords\n",
        "  tests._set_value(i, 0, post_temp)\n",
        "\n",
        "for i in range(tests.shape[0]):\n",
        "  post_temp=tests._get_value(i, 0)\n",
        "  post_temp=\" \".join([lemmatizer.lemmatize(w) for w in post_temp.split(' ')])   #to implement lemmetization i.e. to group together different forms of a word\n",
        "  tests._set_value(i, 0, post_temp)\n",
        "\n",
        "test_post=vectorizer.transform(tests[0]).toarray()\n",
        "print(test_post)\n",
        "\n",
        "pred_xgb=model_xgb.predict(test_post)\n",
        "print(pred_xgb)\n",
        "pred_xgb=np.sum(pred_xgb)/len(pred_xgb)\n",
        "print(pred_xgb)\n",
        "\n"
      ]
    },
    {
      "cell_type": "code",
      "execution_count": null,
      "metadata": {},
      "outputs": [
        {
          "name": "stdout",
          "output_type": "stream",
          "text": [
            "INFJ\n"
          ]
        }
      ],
      "source": [
        "personality=[\"ENFJ\",\"ENFP\",\"ENTJ\",\"ENTP\",\"ESFJ\",\"ESFP\",\"ESTJ\",\"ESTP\",\"INFJ\",\"INFP\",\"INTJ\",\"INTP\",\"ISFJ\",\"ISFP\",\"ISTJ\",\"ISTP\" ]      \n",
        "print(personality[round(pred_xgb)])"
      ]
    },
    {
      "cell_type": "code",
      "execution_count": null,
      "metadata": {},
      "outputs": [
        {
          "ename": "NameError",
          "evalue": "name 'personality' is not defined",
          "output_type": "error",
          "traceback": [
            "\u001b[0;31m---------------------------------------------------------------------------\u001b[0m",
            "\u001b[0;31mNameError\u001b[0m                                 Traceback (most recent call last)",
            "\u001b[1;32m/home/shambhavi/Documents/Megathon '23/Final/MBTI_personality_prediction_model.ipynb Cell 79\u001b[0m line \u001b[0;36m2\n\u001b[1;32m      <a href='vscode-notebook-cell:/home/shambhavi/Documents/Megathon%20%2723/Final/MBTI_personality_prediction_model.ipynb#Y141sZmlsZQ%3D%3D?line=0'>1</a>\u001b[0m \u001b[39m# Get user input for MBTI type\u001b[39;00m\n\u001b[0;32m----> <a href='vscode-notebook-cell:/home/shambhavi/Documents/Megathon%20%2723/Final/MBTI_personality_prediction_model.ipynb#Y141sZmlsZQ%3D%3D?line=1'>2</a>\u001b[0m user_mbti \u001b[39m=\u001b[39m personality[\u001b[39mround\u001b[39m[pred_xgb]]\n\u001b[1;32m      <a href='vscode-notebook-cell:/home/shambhavi/Documents/Megathon%20%2723/Final/MBTI_personality_prediction_model.ipynb#Y141sZmlsZQ%3D%3D?line=2'>3</a>\u001b[0m \u001b[39m# Convert the user input to uppercase for case-insensitive matching\u001b[39;00m\n\u001b[1;32m      <a href='vscode-notebook-cell:/home/shambhavi/Documents/Megathon%20%2723/Final/MBTI_personality_prediction_model.ipynb#Y141sZmlsZQ%3D%3D?line=3'>4</a>\u001b[0m user_mbti \u001b[39m=\u001b[39m user_mbti\u001b[39m.\u001b[39mupper()\n",
            "\u001b[0;31mNameError\u001b[0m: name 'personality' is not defined"
          ]
        }
      ],
      "source": [
        "# Get user input for MBTI type\n",
        "user_mbti = personality[round[pred_xgb]]\n",
        "# Convert the user input to uppercase for case-insensitive matching\n",
        "user_mbti = user_mbti.upper()\n",
        "# Initialize a variable to store the suggested job role\n",
        "job_role = \"Unknown\"\n",
        "# Use if-else conditions to suggest a job role based on the MBTI type\n",
        "if user_mbti == \"ISTJ\":\n",
        "    job_role = \"Manager\"\n",
        "elif user_mbti in [\"ISFJ\", \"INFJ\"]:\n",
        "    job_role = \"Doctor\"\n",
        "elif user_mbti == \"INTJ\":\n",
        "    job_role = \"Engineer\"\n",
        "elif user_mbti == \"ISTP\":\n",
        "    job_role = \"Engineer\"\n",
        "elif user_mbti in [\"ISFP\", \"INFP\"]:\n",
        "    job_role = \"Artist\"\n",
        "elif user_mbti == \"INTP\":\n",
        "    job_role = \"Scientist\"\n",
        "elif user_mbti == \"ESTP\":\n",
        "    job_role = \"Salesperson\"\n",
        "elif user_mbti == \"ESFP\":\n",
        "    job_role = \"Entertainer\"\n",
        "elif user_mbti == \"ENFP\":\n",
        "    job_role = \"Teacher\"\n",
        "elif user_mbti == \"ENTP\":\n",
        "    job_role = \"Entrepreneur\"\n",
        "elif user_mbti == \"ESTJ\":\n",
        "    job_role = \"Manager\"\n",
        "elif user_mbti == \"ESFJ\":\n",
        "    job_role = \"Lawyer\"\n",
        "elif user_mbti == \"ENFJ\":\n",
        "    job_role = \"Teacher\"\n",
        "elif user_mbti == \"ENTJ\":\n",
        "    job_role = \"CEO\"\n",
        "print(job_role)"
      ]
    }
  ],
  "metadata": {
    "accelerator": "GPU",
    "colab": {
      "name": "B20EE095_PRML_Bonus_Project.ipynb",
      "provenance": []
    },
    "kernelspec": {
      "display_name": "Python 3 (ipykernel)",
      "language": "python",
      "name": "python3"
    },
    "language_info": {
      "codemirror_mode": {
        "name": "ipython",
        "version": 3
      },
      "file_extension": ".py",
      "mimetype": "text/x-python",
      "name": "python",
      "nbconvert_exporter": "python",
      "pygments_lexer": "ipython3",
      "version": "3.10.12"
    }
  },
  "nbformat": 4,
  "nbformat_minor": 0
}
